{
  "nbformat": 4,
  "nbformat_minor": 0,
  "metadata": {
    "colab": {
      "provenance": [],
      "authorship_tag": "ABX9TyMKtxPguOGfS/qAgTJbxuqd",
      "include_colab_link": true
    },
    "kernelspec": {
      "name": "python3",
      "display_name": "Python 3"
    },
    "language_info": {
      "name": "python"
    }
  },
  "cells": [
    {
      "cell_type": "markdown",
      "metadata": {
        "id": "view-in-github",
        "colab_type": "text"
      },
      "source": [
        "<a href=\"https://colab.research.google.com/github/TheoBacqueyrisse/Graph-Neural-Networks/blob/main/GNN_MultiHead_Attention.ipynb\" target=\"_parent\"><img src=\"https://colab.research.google.com/assets/colab-badge.svg\" alt=\"Open In Colab\"/></a>"
      ]
    },
    {
      "cell_type": "markdown",
      "source": [
        "# **Graph Neural Network with Multi Attention**"
      ],
      "metadata": {
        "id": "tckr4GdebR_z"
      }
    },
    {
      "cell_type": "code",
      "execution_count": null,
      "metadata": {
        "id": "ptC2556_X0Or"
      },
      "outputs": [],
      "source": [
        "# Let us first clone the GitHub repository\n",
        "%%capture\n",
        "!git clone https://github.com/TheoBacqueyrisse/Graph-Neural-Networks.git"
      ]
    },
    {
      "cell_type": "code",
      "source": [
        "# Install dependencies\n",
        "%%capture\n",
        "!pip install -r /content/Graph-Neural-Networks/requirements.txt"
      ],
      "metadata": {
        "id": "mBDcW1YmZo_m"
      },
      "execution_count": null,
      "outputs": []
    },
    {
      "cell_type": "code",
      "source": [
        "# Import Packages\n",
        "import pandas\n",
        "import numpy as np\n",
        "import torch\n",
        "from torch_geometric.datasets import ZINC\n",
        "\n",
        "# Visualisation\n",
        "import networkx as nx\n",
        "import matplotlib.pyplot as plt\n",
        "import seaborn as sns\n",
        "\n",
        "# Data Loader\n",
        "from torch_geometric.loader import DataLoader\n",
        "\n",
        "# Neural Network Architecture\n",
        "from torch.nn import Linear\n",
        "import torch.nn.functional as F\n",
        "from torch_geometric.nn import GCNConv, GATConv, GINConv\n",
        "from torch_geometric.nn import global_max_pool as gmp, global_mean_pool as gap, global_add_pool as gad\n",
        "from torch.optim.lr_scheduler import ReduceLROnPlateau\n",
        "\n",
        "# Loss Function\n",
        "from torch.nn import MSELoss, L1Loss\n",
        "\n",
        "# Optimizer\n",
        "from torch.optim import Adam, SGD, Adagrad\n",
        "\n",
        "# See the progression of the Training\n",
        "import tqdm"
      ],
      "metadata": {
        "id": "YlKp_nkcZrmW"
      },
      "execution_count": null,
      "outputs": []
    },
    {
      "cell_type": "markdown",
      "source": [
        "## Model Architecture"
      ],
      "metadata": {
        "id": "yqCErT6HbajO"
      }
    },
    {
      "cell_type": "code",
      "source": [
        "NUM_HEADS = 4\n",
        "IN_CHANNELS = 1\n",
        "OUT_CHANNELS = 128\n",
        "\n",
        "class GNN_MultiHead(torch.nn.Module):\n",
        "    def __init__(self, num_heads, in_channels, out_channels):\n",
        "      super(GNN_MultiHead, self).__init__()\n",
        "\n",
        "      # Care about the design of the NN here\n",
        "      self.heads = num_heads\n",
        "      self.convs = torch.nn.ModuleList([\n",
        "            GATConv(in_channels, out_channels // num_heads, heads=num_heads)\n",
        "            for _ in range(num_heads)\n",
        "        ])\n",
        "\n",
        "      self.pooling = gmp\n",
        "      self.out = Linear(in_features = out_channels, out_features = 1)\n",
        "\n",
        "    def forward(self, x, edge_index, batch_index):\n",
        "\n",
        "      head_out = []\n",
        "      for conv in self.convs:\n",
        "          out = conv(x, edge_index)\n",
        "          head_out.append(out)\n",
        "\n",
        "      multi_head_output = torch.cat(head_out, dim=1)\n",
        "\n",
        "      aggregated_output = self.pooling(multi_head_output, batch_index)\n",
        "\n",
        "      out = self.out(aggregated_output)\n",
        "\n",
        "      return out, aggregated_output\n",
        "\n",
        "model = GNN_MultiHead(NUM_HEADS, IN_CHANNELS = 1, OUT_CHANNELS = 128)\n",
        "print(model)"
      ],
      "metadata": {
        "id": "ptvY9R3nZwwt"
      },
      "execution_count": null,
      "outputs": []
    },
    {
      "cell_type": "markdown",
      "source": [
        "## Configuration"
      ],
      "metadata": {
        "id": "kxP64QK5bebU"
      }
    },
    {
      "cell_type": "code",
      "source": [
        "device = torch.device(\"cuda:0\" if torch.cuda.is_available() else \"cpu\")\n",
        "model = model.to(device)\n",
        "\n",
        "NUM_EPOCHS = 10\n",
        "\n",
        "loss_function = L1Loss()\n",
        "optimizer = Adam(params = model.parameters(), lr = 0.005)\n",
        "scheduler = ReduceLROnPlateau(optimizer, mode='min', factor=0.5, patience=20, min_lr=0.00001)"
      ],
      "metadata": {
        "id": "9aA70bvCZ27m"
      },
      "execution_count": null,
      "outputs": []
    },
    {
      "cell_type": "code",
      "source": [
        "NB_GRAPHS_PER_BATCH = 64\n",
        "\n",
        "train = ZINC('/content/Graph-Neural-Networks/data', split = 'train')\n",
        "val = ZINC('/content/Graph-Neural-Networks/data', split = 'val')\n",
        "test = ZINC('/content/Graph-Neural-Networks/data', split = 'test')\n",
        "\n",
        "train_loader = DataLoader(train,\n",
        "                          batch_size = NB_GRAPHS_PER_BATCH,\n",
        "                          shuffle = True)\n",
        "\n",
        "val_loader = DataLoader(val,\n",
        "                        batch_size = NB_GRAPHS_PER_BATCH,\n",
        "                        shuffle = False)\n",
        "\n",
        "test_loader = DataLoader(test,\n",
        "                         batch_size = NB_GRAPHS_PER_BATCH,\n",
        "                         shuffle = False)\n",
        "\n",
        "print(\"Number of Batches in Train Loader :\", len(train_loader))\n",
        "print(\"Number of Batches in Val Loader :\", len(val_loader))\n",
        "print(\"Number of Batches in Test Loader :\", len(test_loader))"
      ],
      "metadata": {
        "id": "k_-47S7laCRl"
      },
      "execution_count": null,
      "outputs": []
    },
    {
      "cell_type": "markdown",
      "source": [
        "## Train and Test Functions 🚀"
      ],
      "metadata": {
        "id": "uzpfULnTbiQ-"
      }
    },
    {
      "cell_type": "code",
      "source": [
        "def train_mh(model, optimizer, scheduler, train_loader, val_loader):\n",
        "    for epoch in range(1, NUM_EPOCHS + 1):\n",
        "        model.train()\n",
        "        train_loss = 0.0\n",
        "\n",
        "        for data in train_loader:\n",
        "            data = data.to(device)\n",
        "            optimizer.zero_grad()\n",
        "            pred, _ = model(data.x.float(), data.edge_index, data.batch)\n",
        "            loss = loss_function(pred.view(-1), data.y.float())\n",
        "            loss.backward()\n",
        "            optimizer.step()\n",
        "            train_loss += loss.item()\n",
        "\n",
        "        average_train_loss = train_loss / len(train_loader)\n",
        "\n",
        "        model.eval()\n",
        "        val_loss = 0.0\n",
        "\n",
        "        with torch.no_grad():\n",
        "            for data in val_loader:\n",
        "                data = data.to(device)\n",
        "                pred, _ = model(data.x.float(), data.edge_index, data.batch)\n",
        "                loss = criterion(pred.view(-1), data.y.float())\n",
        "                val_loss += loss.item()\n",
        "\n",
        "        average_val_loss = val_loss / len(val_loader)\n",
        "\n",
        "        scheduler.step(average_val_loss)\n",
        "\n",
        "        print(f\"Epoch {epoch}/{NUM_EPOCHS} -> Train Loss: {average_train_loss:.4f} - Val Loss: {average_val_loss:.4f}\")\n",
        "\n",
        "\n",
        "def test_mh(test_loader):\n",
        "  model.eval()\n",
        "  with torch.no_grad():\n",
        "      tot_test_loss = 0.0\n",
        "\n",
        "      for test_batch in test_loader:\n",
        "          test_batch.to(device)\n",
        "\n",
        "          test_pred, test_y = model(test_batch.x.float(), test_batch.edge_index, test_batch.batch)\n",
        "          test_loss = loss_function(test_pred, test_batch.y.view(-1, 1).float())\n",
        "\n",
        "          tot_test_loss += test_loss.item()\n",
        "\n",
        "      average_test_loss = tot_test_loss / len(test_loader)\n",
        "\n",
        "  print(f\"Test Loss: {average_test_loss:.4f}\")"
      ],
      "metadata": {
        "id": "1EAdpVtoaCYT"
      },
      "execution_count": null,
      "outputs": []
    },
    {
      "cell_type": "markdown",
      "source": [
        "## Model Training and Evaluation ⚡"
      ],
      "metadata": {
        "id": "PbxLcHlbbnCa"
      }
    },
    {
      "cell_type": "code",
      "source": [
        "train_mh(model, optimizer, scheduler, train_loader, val_loader)\n",
        "test_mh(model, test_loader)"
      ],
      "metadata": {
        "id": "oYBnX3JTaYiF"
      },
      "execution_count": null,
      "outputs": []
    }
  ]
}