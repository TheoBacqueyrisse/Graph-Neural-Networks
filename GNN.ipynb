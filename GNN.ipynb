{
  "nbformat": 4,
  "nbformat_minor": 0,
  "metadata": {
    "colab": {
      "provenance": [],
      "gpuType": "T4",
      "authorship_tag": "ABX9TyO27IOw4ecill8kB0wecwmg",
      "include_colab_link": true
    },
    "kernelspec": {
      "name": "python3",
      "display_name": "Python 3"
    },
    "language_info": {
      "name": "python"
    },
    "accelerator": "GPU"
  },
  "cells": [
    {
      "cell_type": "markdown",
      "metadata": {
        "id": "view-in-github",
        "colab_type": "text"
      },
      "source": [
        "<a href=\"https://colab.research.google.com/github/TheoBacqueyrisse/Graph-Neural-Networks/blob/main/GNN.ipynb\" target=\"_parent\"><img src=\"https://colab.research.google.com/assets/colab-badge.svg\" alt=\"Open In Colab\"/></a>"
      ]
    },
    {
      "cell_type": "markdown",
      "source": [
        "# **Basic Graph Neural Network Architecture**"
      ],
      "metadata": {
        "id": "HWES76ASVnVw"
      }
    },
    {
      "cell_type": "code",
      "execution_count": 1,
      "metadata": {
        "id": "iago8mEcUJU8"
      },
      "outputs": [],
      "source": [
        "# Let us first clone the GitHub repository\n",
        "%%capture\n",
        "!git clone https://github.com/TheoBacqueyrisse/Graph-Neural-Networks.git"
      ]
    },
    {
      "cell_type": "code",
      "source": [
        "# Install dependencies\n",
        "%%capture\n",
        "%cd /content/Graph-Neural-Networks\n",
        "!pip install -r requirements.txt"
      ],
      "metadata": {
        "id": "dYPCnXERUVwT"
      },
      "execution_count": 2,
      "outputs": []
    },
    {
      "cell_type": "code",
      "source": [
        "from utils import *"
      ],
      "metadata": {
        "id": "L_DdfLgTUcSj"
      },
      "execution_count": 3,
      "outputs": []
    },
    {
      "cell_type": "markdown",
      "source": [
        "## GNN Module Architecture"
      ],
      "metadata": {
        "id": "VEK2xVcNWOBX"
      }
    },
    {
      "cell_type": "code",
      "source": [
        "EMBEDDING_SIZE = 32\n",
        "\n",
        "class GNN(torch.nn.Module):\n",
        "    def __init__(self):\n",
        "      super(GNN, self).__init__()\n",
        "\n",
        "      # Care about the design of the NN here\n",
        "      self.initial_conv = GATConv(in_channels = 1, out_channels = EMBEDDING_SIZE)\n",
        "      self.conv_layer1 = GATConv(in_channels = EMBEDDING_SIZE, out_channels = EMBEDDING_SIZE)\n",
        "      self.conv_layer2 = GATConv(in_channels = EMBEDDING_SIZE, out_channels = EMBEDDING_SIZE)\n",
        "\n",
        "      self.pooling = gmp\n",
        "      self.out = Linear(in_features = EMBEDDING_SIZE, out_features = 1)\n",
        "\n",
        "    def forward(self, x, edge_index, edge_attribute, batch_index):\n",
        "\n",
        "\n",
        "      y = self.initial_conv(x, edge_index, edge_attribute)\n",
        "      y = F.sigmoid(y)\n",
        "      y = F.dropout(y, p = 0.2)\n",
        "\n",
        "      y = self.conv_layer1(y, edge_index, edge_attribute)\n",
        "      y = F.sigmoid(y)\n",
        "      y = F.dropout(y, p = 0.1)\n",
        "\n",
        "      y = self.conv_layer2(y, edge_index, edge_attribute)\n",
        "      y = F.sigmoid(y)\n",
        "\n",
        "      y = self.pooling(y, batch_index)\n",
        "\n",
        "      out = self.out(y)\n",
        "\n",
        "      return out, y\n",
        "\n",
        "model = GNN()\n",
        "print(model)"
      ],
      "metadata": {
        "colab": {
          "base_uri": "https://localhost:8080/"
        },
        "id": "ydZz5bITWRZu",
        "outputId": "9767006d-8ed8-4698-ea0e-b7d98373e24f"
      },
      "execution_count": 14,
      "outputs": [
        {
          "output_type": "stream",
          "name": "stdout",
          "text": [
            "GNN(\n",
            "  (initial_conv): GATConv(1, 32, heads=1)\n",
            "  (conv_layer1): GATConv(32, 32, heads=1)\n",
            "  (conv_layer2): GATConv(32, 32, heads=1)\n",
            "  (out): Linear(in_features=32, out_features=1, bias=True)\n",
            ")\n"
          ]
        }
      ]
    },
    {
      "cell_type": "markdown",
      "source": [
        "## Configuration"
      ],
      "metadata": {
        "id": "KRg_XQgLV-k-"
      }
    },
    {
      "cell_type": "code",
      "source": [
        "device = torch.device(\"cuda:0\" if torch.cuda.is_available() else \"cpu\")\n",
        "model = model.to(device)\n",
        "\n",
        "NUM_EPOCHS = 70\n",
        "\n",
        "loss_function = L1Loss()\n",
        "\n",
        "optimizer = Adam(params = model.parameters(), lr = 0.003)\n",
        "\n",
        "scheduler = ReduceLROnPlateau(optimizer, mode='min', factor=0.5, patience=20, min_lr=0.00001)"
      ],
      "metadata": {
        "id": "d4sk6oSzUlyZ"
      },
      "execution_count": 15,
      "outputs": []
    },
    {
      "cell_type": "code",
      "source": [
        "NB_GRAPHS_PER_BATCH = 64\n",
        "\n",
        "train = ZINC('/content/Graph-Neural-Networks/data', split = 'train')\n",
        "train = train[train.y > -10] # Drop Outliers\n",
        "\n",
        "val = ZINC('/content/Graph-Neural-Networks/data', split = 'val')\n",
        "\n",
        "test = ZINC('/content/Graph-Neural-Networks/data', split = 'test')\n",
        "\n",
        "train_loader = DataLoader(train,\n",
        "                          batch_size = NB_GRAPHS_PER_BATCH,\n",
        "                          shuffle = True)\n",
        "\n",
        "val_loader = DataLoader(val,\n",
        "                        batch_size = NB_GRAPHS_PER_BATCH,\n",
        "                        shuffle = False)\n",
        "\n",
        "test_loader = DataLoader(test,\n",
        "                         batch_size = NB_GRAPHS_PER_BATCH,\n",
        "                         shuffle = False)\n",
        "\n",
        "print(\"Number of Batches in Train Loader :\", len(train_loader))\n",
        "print(\"Number of Batches in Val Loader :\", len(val_loader))\n",
        "print(\"Number of Batches in Test Loader :\", len(test_loader))"
      ],
      "metadata": {
        "colab": {
          "base_uri": "https://localhost:8080/"
        },
        "id": "5w6UgVk-WH_g",
        "outputId": "403924a4-684a-4e06-e7c5-1d80b610a517"
      },
      "execution_count": 16,
      "outputs": [
        {
          "output_type": "stream",
          "name": "stdout",
          "text": [
            "Number of Batches in Train Loader : 3433\n",
            "Number of Batches in Val Loader : 382\n",
            "Number of Batches in Test Loader : 79\n"
          ]
        }
      ]
    },
    {
      "cell_type": "markdown",
      "source": [
        "## Train and Test Functions 🚀"
      ],
      "metadata": {
        "id": "HPSLWgkMWd69"
      }
    },
    {
      "cell_type": "code",
      "source": [
        "def train(train_loader, val_loader):\n",
        "  for epoch in range(NUM_EPOCHS+1):\n",
        "\n",
        "    model.train()\n",
        "    tot_train_loss = 0.0\n",
        "\n",
        "    for batch in train_loader:\n",
        "\n",
        "      # Use GPU\n",
        "      batch.to(device)\n",
        "\n",
        "      # Set Gradient values to 0\n",
        "      optimizer.zero_grad()\n",
        "\n",
        "      pred, y = model(batch.x.float(), batch.edge_index, batch.edge_attr, batch.batch)\n",
        "\n",
        "      # Compute Loss and Gradients\n",
        "      loss = loss_function(pred, batch.y.view(-1, 1).float())\n",
        "      loss.backward()\n",
        "      tot_train_loss += loss.item()\n",
        "\n",
        "      optimizer.step()\n",
        "\n",
        "    average_train_loss = tot_train_loss / len(train_loader)\n",
        "\n",
        "    model.eval()\n",
        "    with torch.no_grad():\n",
        "        tot_val_loss = 0.0\n",
        "\n",
        "        for val_batch in val_loader:\n",
        "            val_batch.to(device)\n",
        "\n",
        "            val_pred, val_y = model(val_batch.x.float(), val_batch.edge_index, val_batch.edge_attr, val_batch.batch)\n",
        "            val_loss = loss_function(val_pred, val_batch.y.view(-1, 1).float())\n",
        "\n",
        "            tot_val_loss += val_loss.item()\n",
        "\n",
        "        average_val_loss = tot_val_loss / len(val_loader)\n",
        "\n",
        "    scheduler.step(average_val_loss)\n",
        "\n",
        "    # if epoch % 10 == 0:\n",
        "    print(f\"Epoch {epoch} -> Train Loss: {average_train_loss:.4f} - Val Loss: {average_val_loss:.4f}\")\n",
        "\n",
        "\n",
        "def test(test_loader):\n",
        "  model.eval()\n",
        "  with torch.no_grad():\n",
        "      tot_test_loss = 0.0\n",
        "\n",
        "      for test_batch in test_loader:\n",
        "          test_batch.to(device)\n",
        "\n",
        "          test_pred, test_y = model(test_batch.x.float(), test_batch.edge_index, test_batch.edge_attr, test_batch.batch)\n",
        "          test_loss = loss_function(test_pred, test_batch.y.view(-1, 1).float())\n",
        "\n",
        "          tot_test_loss += test_loss.item()\n",
        "\n",
        "      average_test_loss = tot_test_loss / len(test_loader)\n",
        "\n",
        "  print(f\"Test Loss: {average_test_loss:.4f}\")"
      ],
      "metadata": {
        "id": "vMIZVAZiVAGe"
      },
      "execution_count": 17,
      "outputs": []
    },
    {
      "cell_type": "markdown",
      "source": [
        "## Model Training and Evaluation ⚡\n",
        "\n"
      ],
      "metadata": {
        "id": "AAL2ZbdGWtfJ"
      }
    },
    {
      "cell_type": "code",
      "source": [
        "train(train_loader, val_loader)"
      ],
      "metadata": {
        "colab": {
          "base_uri": "https://localhost:8080/"
        },
        "id": "LwjKLUGXVEPg",
        "outputId": "57d995c9-8bb3-4570-ae24-81922ab78da5"
      },
      "execution_count": 18,
      "outputs": [
        {
          "output_type": "stream",
          "name": "stdout",
          "text": [
            "Epoch 0 -> Train Loss: 1.1679 - Val Loss: 1.0544\n",
            "Epoch 1 -> Train Loss: 1.0191 - Val Loss: 1.0069\n",
            "Epoch 2 -> Train Loss: 0.9858 - Val Loss: 1.0449\n",
            "Epoch 3 -> Train Loss: 0.9675 - Val Loss: 0.9768\n",
            "Epoch 4 -> Train Loss: 0.9501 - Val Loss: 0.9556\n",
            "Epoch 5 -> Train Loss: 0.9371 - Val Loss: 0.9507\n",
            "Epoch 6 -> Train Loss: 0.9265 - Val Loss: 0.9373\n",
            "Epoch 7 -> Train Loss: 0.9167 - Val Loss: 0.9161\n",
            "Epoch 8 -> Train Loss: 0.9103 - Val Loss: 0.9365\n",
            "Epoch 9 -> Train Loss: 0.9165 - Val Loss: 0.9437\n",
            "Epoch 10 -> Train Loss: 0.9214 - Val Loss: 0.9216\n",
            "Epoch 11 -> Train Loss: 0.8959 - Val Loss: 0.9307\n",
            "Epoch 12 -> Train Loss: 0.8891 - Val Loss: 0.8930\n",
            "Epoch 13 -> Train Loss: 0.8839 - Val Loss: 0.8851\n",
            "Epoch 14 -> Train Loss: 0.8838 - Val Loss: 0.8867\n",
            "Epoch 15 -> Train Loss: 0.8756 - Val Loss: 0.8817\n",
            "Epoch 16 -> Train Loss: 0.8722 - Val Loss: 0.8747\n",
            "Epoch 17 -> Train Loss: 0.8963 - Val Loss: 0.9624\n",
            "Epoch 18 -> Train Loss: 0.9279 - Val Loss: 0.9352\n",
            "Epoch 19 -> Train Loss: 0.9043 - Val Loss: 0.9136\n",
            "Epoch 20 -> Train Loss: 0.8892 - Val Loss: 0.9005\n",
            "Epoch 21 -> Train Loss: 0.8791 - Val Loss: 0.8889\n",
            "Epoch 22 -> Train Loss: 0.8704 - Val Loss: 0.8800\n",
            "Epoch 23 -> Train Loss: 0.8585 - Val Loss: 0.8671\n",
            "Epoch 24 -> Train Loss: 0.8482 - Val Loss: 0.8796\n",
            "Epoch 25 -> Train Loss: 0.8402 - Val Loss: 0.8530\n",
            "Epoch 26 -> Train Loss: 0.8341 - Val Loss: 0.8412\n",
            "Epoch 27 -> Train Loss: 0.8292 - Val Loss: 0.8393\n",
            "Epoch 28 -> Train Loss: 0.8246 - Val Loss: 0.8335\n",
            "Epoch 29 -> Train Loss: 0.8215 - Val Loss: 0.8322\n",
            "Epoch 30 -> Train Loss: 0.8197 - Val Loss: 0.8360\n",
            "Epoch 31 -> Train Loss: 0.8188 - Val Loss: 0.8282\n",
            "Epoch 32 -> Train Loss: 0.8154 - Val Loss: 0.8336\n",
            "Epoch 33 -> Train Loss: 0.8141 - Val Loss: 0.8270\n",
            "Epoch 34 -> Train Loss: 0.8133 - Val Loss: 0.8259\n",
            "Epoch 35 -> Train Loss: 0.8102 - Val Loss: 0.8225\n",
            "Epoch 36 -> Train Loss: 0.8096 - Val Loss: 0.8231\n",
            "Epoch 37 -> Train Loss: 0.8077 - Val Loss: 0.8199\n",
            "Epoch 38 -> Train Loss: 0.8063 - Val Loss: 0.8226\n",
            "Epoch 39 -> Train Loss: 0.8048 - Val Loss: 0.8149\n",
            "Epoch 40 -> Train Loss: 0.8035 - Val Loss: 0.8169\n",
            "Epoch 41 -> Train Loss: 0.8021 - Val Loss: 0.8163\n",
            "Epoch 42 -> Train Loss: 0.8024 - Val Loss: 0.8114\n",
            "Epoch 43 -> Train Loss: 0.8005 - Val Loss: 0.8266\n",
            "Epoch 44 -> Train Loss: 0.7999 - Val Loss: 0.8109\n",
            "Epoch 45 -> Train Loss: 0.7987 - Val Loss: 0.8094\n",
            "Epoch 46 -> Train Loss: 0.7979 - Val Loss: 0.8095\n",
            "Epoch 47 -> Train Loss: 0.7962 - Val Loss: 0.8056\n",
            "Epoch 48 -> Train Loss: 0.7964 - Val Loss: 0.8083\n",
            "Epoch 49 -> Train Loss: 0.7951 - Val Loss: 0.8132\n",
            "Epoch 50 -> Train Loss: 0.7945 - Val Loss: 0.8058\n",
            "Epoch 51 -> Train Loss: 0.7917 - Val Loss: 0.8090\n",
            "Epoch 52 -> Train Loss: 0.7899 - Val Loss: 0.8142\n",
            "Epoch 53 -> Train Loss: 0.7894 - Val Loss: 0.8034\n",
            "Epoch 54 -> Train Loss: 0.8008 - Val Loss: 0.8090\n",
            "Epoch 55 -> Train Loss: 0.7863 - Val Loss: 0.8113\n",
            "Epoch 56 -> Train Loss: 0.7846 - Val Loss: 0.7934\n",
            "Epoch 57 -> Train Loss: 0.7831 - Val Loss: 0.7987\n",
            "Epoch 58 -> Train Loss: 0.7819 - Val Loss: 0.7935\n",
            "Epoch 59 -> Train Loss: 0.7792 - Val Loss: 0.7932\n",
            "Epoch 60 -> Train Loss: 0.7796 - Val Loss: 0.8031\n",
            "Epoch 61 -> Train Loss: 0.7794 - Val Loss: 0.7921\n",
            "Epoch 62 -> Train Loss: 0.7776 - Val Loss: 0.7894\n",
            "Epoch 63 -> Train Loss: 0.7771 - Val Loss: 0.7847\n",
            "Epoch 64 -> Train Loss: 0.7753 - Val Loss: 0.8004\n",
            "Epoch 65 -> Train Loss: 0.7759 - Val Loss: 0.7880\n",
            "Epoch 66 -> Train Loss: 0.7741 - Val Loss: 0.7889\n",
            "Epoch 67 -> Train Loss: 0.7733 - Val Loss: 0.7824\n",
            "Epoch 68 -> Train Loss: 0.7719 - Val Loss: 0.7833\n",
            "Epoch 69 -> Train Loss: 0.7719 - Val Loss: 0.8133\n",
            "Epoch 70 -> Train Loss: 0.7706 - Val Loss: 0.7743\n"
          ]
        }
      ]
    },
    {
      "cell_type": "code",
      "source": [
        "test(test_loader)"
      ],
      "metadata": {
        "colab": {
          "base_uri": "https://localhost:8080/"
        },
        "id": "2m6Lp0KTVMch",
        "outputId": "3015aedf-21b1-475f-efb3-2134e14cedb7"
      },
      "execution_count": null,
      "outputs": [
        {
          "output_type": "stream",
          "name": "stdout",
          "text": [
            "Test Loss: 0.8571\n"
          ]
        }
      ]
    }
  ]
}