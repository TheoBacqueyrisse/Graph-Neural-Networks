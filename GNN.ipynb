{
  "nbformat": 4,
  "nbformat_minor": 0,
  "metadata": {
    "colab": {
      "provenance": [],
      "gpuType": "T4",
      "authorship_tag": "ABX9TyPIWl7pjxjxZg/RQ321BR1D",
      "include_colab_link": true
    },
    "kernelspec": {
      "name": "python3",
      "display_name": "Python 3"
    },
    "language_info": {
      "name": "python"
    },
    "accelerator": "GPU"
  },
  "cells": [
    {
      "cell_type": "markdown",
      "metadata": {
        "id": "view-in-github",
        "colab_type": "text"
      },
      "source": [
        "<a href=\"https://colab.research.google.com/github/TheoBacqueyrisse/Graph-Neural-Networks/blob/main/GNN.ipynb\" target=\"_parent\"><img src=\"https://colab.research.google.com/assets/colab-badge.svg\" alt=\"Open In Colab\"/></a>"
      ]
    },
    {
      "cell_type": "markdown",
      "source": [
        "# **Basic Graph Neural Network Architecture**"
      ],
      "metadata": {
        "id": "HWES76ASVnVw"
      }
    },
    {
      "cell_type": "code",
      "execution_count": 1,
      "metadata": {
        "id": "iago8mEcUJU8"
      },
      "outputs": [],
      "source": [
        "# Let us first clone the GitHub repository\n",
        "%%capture\n",
        "!git clone https://github.com/TheoBacqueyrisse/Graph-Neural-Networks.git"
      ]
    },
    {
      "cell_type": "code",
      "source": [
        "# Install dependencies\n",
        "%%capture\n",
        "%cd /content/Graph-Neural-Networks\n",
        "!pip install -r requirements.txt"
      ],
      "metadata": {
        "id": "dYPCnXERUVwT"
      },
      "execution_count": 2,
      "outputs": []
    },
    {
      "cell_type": "code",
      "source": [
        "from utils import *"
      ],
      "metadata": {
        "id": "L_DdfLgTUcSj"
      },
      "execution_count": 3,
      "outputs": []
    },
    {
      "cell_type": "markdown",
      "source": [
        "## GNN Module Architecture"
      ],
      "metadata": {
        "id": "VEK2xVcNWOBX"
      }
    },
    {
      "cell_type": "code",
      "source": [
        "EMBEDDING_SIZE = 32\n",
        "\n",
        "class GNN(torch.nn.Module):\n",
        "    def __init__(self):\n",
        "      super(GNN, self).__init__()\n",
        "\n",
        "      # Care about the design of the NN here\n",
        "      self.initial_conv = GATConv(in_channels = 1, out_channels = EMBEDDING_SIZE)\n",
        "      self.conv_layer1 = GATConv(in_channels = EMBEDDING_SIZE, out_channels = EMBEDDING_SIZE)\n",
        "      self.conv_layer2 = GATConv(in_channels = EMBEDDING_SIZE, out_channels = EMBEDDING_SIZE)\n",
        "\n",
        "      self.pooling = gap\n",
        "      self.out = Linear(in_features = EMBEDDING_SIZE, out_features = 1)\n",
        "\n",
        "    def forward(self, x, edge_index, edge_attribute, batch_index):\n",
        "\n",
        "\n",
        "      y = self.initial_conv(x, edge_index, edge_attribute)\n",
        "      y = F.sigmoid(y)\n",
        "      y = F.dropout(y, p = 0.2)\n",
        "\n",
        "      y = self.conv_layer1(y, edge_index, edge_attribute)\n",
        "      y = F.sigmoid(y)\n",
        "      y = F.dropout(y, p = 0.1)\n",
        "\n",
        "      y = self.conv_layer2(y, edge_index, edge_attribute)\n",
        "      y = F.sigmoid(y)\n",
        "\n",
        "      y = self.pooling(y, batch_index)\n",
        "\n",
        "      out = self.out(y)\n",
        "\n",
        "      return out, y\n",
        "\n",
        "model = GNN()\n",
        "print(model)"
      ],
      "metadata": {
        "colab": {
          "base_uri": "https://localhost:8080/"
        },
        "id": "ydZz5bITWRZu",
        "outputId": "030167d6-e4ca-4f60-f4e2-10e9d7aa87e2"
      },
      "execution_count": 10,
      "outputs": [
        {
          "output_type": "stream",
          "name": "stdout",
          "text": [
            "GNN(\n",
            "  (initial_conv): GATConv(1, 32, heads=1)\n",
            "  (conv_layer1): GATConv(32, 32, heads=1)\n",
            "  (conv_layer2): GATConv(32, 32, heads=1)\n",
            "  (out): Linear(in_features=32, out_features=1, bias=True)\n",
            ")\n"
          ]
        }
      ]
    },
    {
      "cell_type": "markdown",
      "source": [
        "## Configuration"
      ],
      "metadata": {
        "id": "KRg_XQgLV-k-"
      }
    },
    {
      "cell_type": "code",
      "source": [
        "device = torch.device(\"cuda:0\" if torch.cuda.is_available() else \"cpu\")\n",
        "model = model.to(device)\n",
        "\n",
        "NUM_EPOCHS = 100\n",
        "\n",
        "loss_function = L1Loss()\n",
        "\n",
        "optimizer = Adam(params = model.parameters(), lr = 0.003)\n",
        "\n",
        "scheduler = ReduceLROnPlateau(optimizer, mode='min', factor=0.5, patience=20, min_lr=0.00001)"
      ],
      "metadata": {
        "id": "d4sk6oSzUlyZ"
      },
      "execution_count": 12,
      "outputs": []
    },
    {
      "cell_type": "code",
      "source": [
        "NB_GRAPHS_PER_BATCH = 64\n",
        "\n",
        "train = ZINC('/content/Graph-Neural-Networks/data', split = 'train')\n",
        "train = train[train.y > -10] # Drop Outliers\n",
        "\n",
        "val = ZINC('/content/Graph-Neural-Networks/data', split = 'val')\n",
        "\n",
        "test = ZINC('/content/Graph-Neural-Networks/data', split = 'test')\n",
        "\n",
        "train_loader = DataLoader(train,\n",
        "                          batch_size = NB_GRAPHS_PER_BATCH,\n",
        "                          shuffle = True)\n",
        "\n",
        "val_loader = DataLoader(val,\n",
        "                        batch_size = NB_GRAPHS_PER_BATCH,\n",
        "                        shuffle = False)\n",
        "\n",
        "test_loader = DataLoader(test,\n",
        "                         batch_size = NB_GRAPHS_PER_BATCH,\n",
        "                         shuffle = False)\n",
        "\n",
        "print(\"Number of Batches in Train Loader :\", len(train_loader))\n",
        "print(\"Number of Batches in Val Loader :\", len(val_loader))\n",
        "print(\"Number of Batches in Test Loader :\", len(test_loader))"
      ],
      "metadata": {
        "colab": {
          "base_uri": "https://localhost:8080/"
        },
        "id": "5w6UgVk-WH_g",
        "outputId": "8175325c-82fa-474d-b0bd-e6da0cb97066"
      },
      "execution_count": 13,
      "outputs": [
        {
          "output_type": "stream",
          "name": "stdout",
          "text": [
            "Number of Batches in Train Loader : 3433\n",
            "Number of Batches in Val Loader : 382\n",
            "Number of Batches in Test Loader : 79\n"
          ]
        }
      ]
    },
    {
      "cell_type": "markdown",
      "source": [
        "## Train and Test Functions 🚀"
      ],
      "metadata": {
        "id": "HPSLWgkMWd69"
      }
    },
    {
      "cell_type": "code",
      "source": [
        "def train(train_loader, val_loader):\n",
        "  for epoch in range(NUM_EPOCHS+1):\n",
        "\n",
        "    model.train()\n",
        "    tot_train_loss = 0.0\n",
        "\n",
        "    for batch in train_loader:\n",
        "\n",
        "      # Use GPU\n",
        "      batch.to(device)\n",
        "\n",
        "      # Set Gradient values to 0\n",
        "      optimizer.zero_grad()\n",
        "\n",
        "      pred, y = model(batch.x.float(), batch.edge_index, batch.edge_attr, batch.batch)\n",
        "\n",
        "      # Compute Loss and Gradients\n",
        "      loss = loss_function(pred, batch.y.view(-1, 1).float())\n",
        "      loss.backward()\n",
        "      tot_train_loss += loss.item()\n",
        "\n",
        "      optimizer.step()\n",
        "\n",
        "    average_train_loss = tot_train_loss / len(train_loader)\n",
        "\n",
        "    model.eval()\n",
        "    with torch.no_grad():\n",
        "        tot_val_loss = 0.0\n",
        "\n",
        "        for val_batch in val_loader:\n",
        "            val_batch.to(device)\n",
        "\n",
        "            val_pred, val_y = model(val_batch.x.float(), val_batch.edge_index, val_batch.edge_attr, val_batch.batch)\n",
        "            val_loss = loss_function(val_pred, val_batch.y.view(-1, 1).float())\n",
        "\n",
        "            tot_val_loss += val_loss.item()\n",
        "\n",
        "        average_val_loss = tot_val_loss / len(val_loader)\n",
        "\n",
        "    scheduler.step(average_val_loss)\n",
        "\n",
        "    # if epoch % 10 == 0:\n",
        "    print(f\"Epoch {epoch} -> Train Loss: {average_train_loss:.4f} - Val Loss: {average_val_loss:.4f}\")\n",
        "\n",
        "\n",
        "def test(test_loader):\n",
        "  model.eval()\n",
        "  with torch.no_grad():\n",
        "      tot_test_loss = 0.0\n",
        "\n",
        "      for test_batch in test_loader:\n",
        "          test_batch.to(device)\n",
        "\n",
        "          test_pred, test_y = model(test_batch.x.float(), test_batch.edge_index, test_batch.edge_attr, test_batch.batch)\n",
        "          test_loss = loss_function(test_pred, test_batch.y.view(-1, 1).float())\n",
        "\n",
        "          tot_test_loss += test_loss.item()\n",
        "\n",
        "      average_test_loss = tot_test_loss / len(test_loader)\n",
        "\n",
        "  print(f\"Test Loss: {average_test_loss:.4f}\")"
      ],
      "metadata": {
        "id": "vMIZVAZiVAGe"
      },
      "execution_count": 14,
      "outputs": []
    },
    {
      "cell_type": "markdown",
      "source": [
        "## Model Training and Evaluation ⚡\n",
        "\n"
      ],
      "metadata": {
        "id": "AAL2ZbdGWtfJ"
      }
    },
    {
      "cell_type": "code",
      "source": [
        "train(train_loader, val_loader)"
      ],
      "metadata": {
        "colab": {
          "base_uri": "https://localhost:8080/"
        },
        "id": "LwjKLUGXVEPg",
        "outputId": "c3db480c-bdc5-4d4a-ea22-4c0302120e8c"
      },
      "execution_count": 15,
      "outputs": [
        {
          "output_type": "stream",
          "name": "stdout",
          "text": [
            "Epoch 0 -> Train Loss: 1.1525 - Val Loss: 1.1180\n",
            "Epoch 1 -> Train Loss: 1.0527 - Val Loss: 1.0269\n",
            "Epoch 2 -> Train Loss: 1.0051 - Val Loss: 1.0247\n",
            "Epoch 3 -> Train Loss: 0.9483 - Val Loss: 0.9431\n",
            "Epoch 4 -> Train Loss: 0.9219 - Val Loss: 0.9213\n",
            "Epoch 5 -> Train Loss: 0.9083 - Val Loss: 0.9290\n",
            "Epoch 6 -> Train Loss: 0.8952 - Val Loss: 0.8971\n",
            "Epoch 7 -> Train Loss: 0.8796 - Val Loss: 0.9044\n",
            "Epoch 8 -> Train Loss: 0.8695 - Val Loss: 0.8915\n",
            "Epoch 9 -> Train Loss: 0.8622 - Val Loss: 0.8833\n",
            "Epoch 10 -> Train Loss: 0.8543 - Val Loss: 0.8593\n",
            "Epoch 11 -> Train Loss: 0.8437 - Val Loss: 0.8487\n",
            "Epoch 12 -> Train Loss: 0.8335 - Val Loss: 0.8366\n",
            "Epoch 13 -> Train Loss: 0.8145 - Val Loss: 0.8168\n",
            "Epoch 14 -> Train Loss: 0.7940 - Val Loss: 0.7989\n",
            "Epoch 15 -> Train Loss: 0.7875 - Val Loss: 0.7925\n",
            "Epoch 16 -> Train Loss: 0.7836 - Val Loss: 0.7948\n",
            "Epoch 17 -> Train Loss: 0.7806 - Val Loss: 0.7945\n",
            "Epoch 18 -> Train Loss: 0.7786 - Val Loss: 0.7879\n",
            "Epoch 19 -> Train Loss: 0.7736 - Val Loss: 0.7911\n",
            "Epoch 20 -> Train Loss: 0.7622 - Val Loss: 0.7738\n",
            "Epoch 21 -> Train Loss: 0.7556 - Val Loss: 0.7825\n",
            "Epoch 22 -> Train Loss: 0.7517 - Val Loss: 0.7711\n",
            "Epoch 23 -> Train Loss: 0.7488 - Val Loss: 0.7842\n",
            "Epoch 24 -> Train Loss: 0.7461 - Val Loss: 0.7604\n",
            "Epoch 25 -> Train Loss: 0.7444 - Val Loss: 0.7712\n",
            "Epoch 26 -> Train Loss: 0.7420 - Val Loss: 0.7556\n",
            "Epoch 27 -> Train Loss: 0.7404 - Val Loss: 0.7722\n",
            "Epoch 28 -> Train Loss: 0.7373 - Val Loss: 0.7618\n",
            "Epoch 29 -> Train Loss: 0.7365 - Val Loss: 0.7478\n",
            "Epoch 30 -> Train Loss: 0.7353 - Val Loss: 0.7487\n",
            "Epoch 31 -> Train Loss: 0.7470 - Val Loss: 0.7849\n",
            "Epoch 32 -> Train Loss: 0.7258 - Val Loss: 0.7451\n",
            "Epoch 33 -> Train Loss: 0.7087 - Val Loss: 0.7300\n",
            "Epoch 34 -> Train Loss: 0.7027 - Val Loss: 0.7163\n",
            "Epoch 35 -> Train Loss: 0.6988 - Val Loss: 0.7135\n",
            "Epoch 36 -> Train Loss: 0.7001 - Val Loss: 0.7130\n",
            "Epoch 37 -> Train Loss: 0.6939 - Val Loss: 0.7105\n",
            "Epoch 38 -> Train Loss: 0.6920 - Val Loss: 0.7120\n",
            "Epoch 39 -> Train Loss: 0.6904 - Val Loss: 0.7049\n",
            "Epoch 40 -> Train Loss: 0.6876 - Val Loss: 0.7117\n",
            "Epoch 41 -> Train Loss: 0.6857 - Val Loss: 0.7079\n",
            "Epoch 42 -> Train Loss: 0.6856 - Val Loss: 0.6997\n",
            "Epoch 43 -> Train Loss: 0.6844 - Val Loss: 0.6976\n",
            "Epoch 44 -> Train Loss: 0.6806 - Val Loss: 0.6988\n",
            "Epoch 45 -> Train Loss: 0.6808 - Val Loss: 0.7142\n",
            "Epoch 46 -> Train Loss: 0.6799 - Val Loss: 0.6935\n",
            "Epoch 47 -> Train Loss: 0.6789 - Val Loss: 0.6980\n",
            "Epoch 48 -> Train Loss: 0.6787 - Val Loss: 0.6968\n",
            "Epoch 49 -> Train Loss: 0.6786 - Val Loss: 0.7018\n",
            "Epoch 50 -> Train Loss: 0.6753 - Val Loss: 0.6914\n",
            "Epoch 51 -> Train Loss: 0.6757 - Val Loss: 0.6917\n",
            "Epoch 52 -> Train Loss: 0.6765 - Val Loss: 0.6963\n",
            "Epoch 53 -> Train Loss: 0.6744 - Val Loss: 0.6931\n",
            "Epoch 54 -> Train Loss: 0.6739 - Val Loss: 0.6933\n",
            "Epoch 55 -> Train Loss: 0.6730 - Val Loss: 0.6901\n",
            "Epoch 56 -> Train Loss: 0.6746 - Val Loss: 0.6906\n",
            "Epoch 57 -> Train Loss: 0.6732 - Val Loss: 0.6882\n",
            "Epoch 58 -> Train Loss: 0.6709 - Val Loss: 0.6909\n",
            "Epoch 59 -> Train Loss: 0.7866 - Val Loss: 0.8257\n",
            "Epoch 60 -> Train Loss: 0.7482 - Val Loss: 0.7023\n",
            "Epoch 61 -> Train Loss: 0.6872 - Val Loss: 0.7065\n",
            "Epoch 62 -> Train Loss: 0.6796 - Val Loss: 0.6959\n",
            "Epoch 63 -> Train Loss: 0.6760 - Val Loss: 0.6973\n",
            "Epoch 64 -> Train Loss: 0.6748 - Val Loss: 0.6949\n",
            "Epoch 65 -> Train Loss: 0.6750 - Val Loss: 0.6977\n",
            "Epoch 66 -> Train Loss: 0.6734 - Val Loss: 0.6911\n",
            "Epoch 67 -> Train Loss: 0.6727 - Val Loss: 0.6940\n",
            "Epoch 68 -> Train Loss: 0.6724 - Val Loss: 0.6904\n",
            "Epoch 69 -> Train Loss: 0.6724 - Val Loss: 0.6942\n",
            "Epoch 70 -> Train Loss: 0.6708 - Val Loss: 0.6886\n",
            "Epoch 71 -> Train Loss: 0.6709 - Val Loss: 0.6873\n",
            "Epoch 72 -> Train Loss: 0.6725 - Val Loss: 0.6964\n",
            "Epoch 73 -> Train Loss: 0.6745 - Val Loss: 0.6893\n",
            "Epoch 74 -> Train Loss: 0.6700 - Val Loss: 0.6895\n",
            "Epoch 75 -> Train Loss: 0.6689 - Val Loss: 0.6880\n",
            "Epoch 76 -> Train Loss: 0.7319 - Val Loss: 0.6962\n",
            "Epoch 77 -> Train Loss: 0.6752 - Val Loss: 0.7111\n",
            "Epoch 78 -> Train Loss: 0.6736 - Val Loss: 0.6950\n",
            "Epoch 79 -> Train Loss: 0.6732 - Val Loss: 0.6943\n",
            "Epoch 80 -> Train Loss: 0.6726 - Val Loss: 0.6939\n",
            "Epoch 81 -> Train Loss: 0.6720 - Val Loss: 0.6888\n",
            "Epoch 82 -> Train Loss: 0.6712 - Val Loss: 0.6888\n",
            "Epoch 83 -> Train Loss: 0.6693 - Val Loss: 0.6871\n",
            "Epoch 84 -> Train Loss: 0.6703 - Val Loss: 0.6888\n",
            "Epoch 85 -> Train Loss: 0.6694 - Val Loss: 0.6854\n",
            "Epoch 86 -> Train Loss: 0.6705 - Val Loss: 0.6860\n",
            "Epoch 87 -> Train Loss: 0.6695 - Val Loss: 0.6877\n",
            "Epoch 88 -> Train Loss: 0.6676 - Val Loss: 0.6922\n",
            "Epoch 89 -> Train Loss: 0.6677 - Val Loss: 0.6851\n",
            "Epoch 90 -> Train Loss: 0.6672 - Val Loss: 0.6842\n",
            "Epoch 91 -> Train Loss: 0.6660 - Val Loss: 0.6818\n",
            "Epoch 92 -> Train Loss: 0.6650 - Val Loss: 0.6874\n",
            "Epoch 93 -> Train Loss: 0.6656 - Val Loss: 0.6860\n",
            "Epoch 94 -> Train Loss: 0.6654 - Val Loss: 0.6796\n",
            "Epoch 95 -> Train Loss: 0.6654 - Val Loss: 0.6820\n",
            "Epoch 96 -> Train Loss: 0.6651 - Val Loss: 0.6849\n",
            "Epoch 97 -> Train Loss: 0.6649 - Val Loss: 0.6807\n",
            "Epoch 98 -> Train Loss: 0.6645 - Val Loss: 0.6812\n",
            "Epoch 99 -> Train Loss: 0.6642 - Val Loss: 0.6828\n",
            "Epoch 100 -> Train Loss: 0.6640 - Val Loss: 0.6788\n"
          ]
        }
      ]
    },
    {
      "cell_type": "code",
      "source": [
        "test(test_loader)"
      ],
      "metadata": {
        "colab": {
          "base_uri": "https://localhost:8080/"
        },
        "id": "2m6Lp0KTVMch",
        "outputId": "862658a0-40d2-4aea-de9b-d740f2834ca7"
      },
      "execution_count": 16,
      "outputs": [
        {
          "output_type": "stream",
          "name": "stdout",
          "text": [
            "Test Loss: 0.6773\n"
          ]
        }
      ]
    }
  ]
}