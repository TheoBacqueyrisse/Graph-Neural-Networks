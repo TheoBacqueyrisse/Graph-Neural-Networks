{
  "nbformat": 4,
  "nbformat_minor": 0,
  "metadata": {
    "colab": {
      "provenance": [],
      "gpuType": "T4",
      "authorship_tag": "ABX9TyMZDNIjVvrbedgwLVFpDqMN",
      "include_colab_link": true
    },
    "kernelspec": {
      "name": "python3",
      "display_name": "Python 3"
    },
    "language_info": {
      "name": "python"
    },
    "accelerator": "GPU"
  },
  "cells": [
    {
      "cell_type": "markdown",
      "metadata": {
        "id": "view-in-github",
        "colab_type": "text"
      },
      "source": [
        "<a href=\"https://colab.research.google.com/github/TheoBacqueyrisse/Graph-Neural-Networks/blob/main/GNN.ipynb\" target=\"_parent\"><img src=\"https://colab.research.google.com/assets/colab-badge.svg\" alt=\"Open In Colab\"/></a>"
      ]
    },
    {
      "cell_type": "markdown",
      "source": [
        "# **Basic Graph Neural Network Architecture**"
      ],
      "metadata": {
        "id": "HWES76ASVnVw"
      }
    },
    {
      "cell_type": "code",
      "execution_count": 1,
      "metadata": {
        "id": "iago8mEcUJU8"
      },
      "outputs": [],
      "source": [
        "# Let us first clone the GitHub repository\n",
        "%%capture\n",
        "!git clone https://github.com/TheoBacqueyrisse/Graph-Neural-Networks.git"
      ]
    },
    {
      "cell_type": "code",
      "source": [
        "# Install dependencies\n",
        "%%capture\n",
        "!pip install -r /content/Graph-Neural-Networks/requirements.txt"
      ],
      "metadata": {
        "id": "dYPCnXERUVwT"
      },
      "execution_count": 2,
      "outputs": []
    },
    {
      "cell_type": "code",
      "source": [
        "# Import Packages\n",
        "import pandas\n",
        "import numpy as np\n",
        "import torch\n",
        "from torch_geometric.datasets import ZINC\n",
        "\n",
        "# Visualisation\n",
        "import networkx as nx\n",
        "import matplotlib.pyplot as plt\n",
        "import seaborn as sns\n",
        "\n",
        "# Data Loader\n",
        "from torch_geometric.loader import DataLoader\n",
        "\n",
        "# Neural Network Architecture\n",
        "from torch.nn import Linear\n",
        "import torch.nn.functional as F\n",
        "from torch_geometric.nn import GCNConv, GATConv, GINConv\n",
        "from torch_geometric.nn import global_max_pool as gmp, global_mean_pool as gap, global_add_pool as gad\n",
        "from torch.optim.lr_scheduler import ReduceLROnPlateau\n",
        "\n",
        "# Loss Function\n",
        "from torch.nn import MSELoss, L1Loss\n",
        "\n",
        "# Optimizer\n",
        "from torch.optim import Adam, SGD, Adagrad\n",
        "\n",
        "# See the progression of the Training\n",
        "import tqdm"
      ],
      "metadata": {
        "id": "L_DdfLgTUcSj"
      },
      "execution_count": 3,
      "outputs": []
    },
    {
      "cell_type": "markdown",
      "source": [
        "## GNN Module Architecture"
      ],
      "metadata": {
        "id": "VEK2xVcNWOBX"
      }
    },
    {
      "cell_type": "code",
      "source": [
        "EMBEDDING_SIZE = 32\n",
        "\n",
        "class GNN(torch.nn.Module):\n",
        "    def __init__(self):\n",
        "      super(GNN, self).__init__()\n",
        "\n",
        "      # Care about the design of the NN here\n",
        "      self.initial_conv = GATConv(in_channels = 1, out_channels = EMBEDDING_SIZE)\n",
        "      self.conv_layer1 = GATConv(in_channels = EMBEDDING_SIZE, out_channels = EMBEDDING_SIZE)\n",
        "      self.conv_layer2 = GATConv(in_channels = EMBEDDING_SIZE, out_channels = EMBEDDING_SIZE)\n",
        "\n",
        "      self.pooling = gmp\n",
        "      self.out = Linear(in_features = EMBEDDING_SIZE, out_features = 1)\n",
        "\n",
        "    def forward(self, x, edge_index, edge_attribute, batch_index):\n",
        "\n",
        "\n",
        "      y = self.initial_conv(x, edge_index, edge_attribute)\n",
        "      y = F.sigmoid(y)\n",
        "      y = F.dropout(y, p = 0.2)\n",
        "\n",
        "      y = self.conv_layer1(y, edge_index, edge_attribute)\n",
        "      y = F.sigmoid(y)\n",
        "      y = F.dropout(y, p = 0.1)\n",
        "\n",
        "      y = self.conv_layer2(y, edge_index, edge_attribute)\n",
        "      y = F.sigmoid(y)\n",
        "\n",
        "      y = self.pooling(y, batch_index)\n",
        "\n",
        "      out = self.out(y)\n",
        "\n",
        "      return out, y\n",
        "\n",
        "model = GNN()\n",
        "print(model)"
      ],
      "metadata": {
        "colab": {
          "base_uri": "https://localhost:8080/"
        },
        "id": "ydZz5bITWRZu",
        "outputId": "76078a61-a17b-4885-fffc-5e8440b00ea5"
      },
      "execution_count": 4,
      "outputs": [
        {
          "output_type": "stream",
          "name": "stdout",
          "text": [
            "GNN(\n",
            "  (initial_conv): GATConv(1, 32, heads=1)\n",
            "  (conv_layer1): GATConv(32, 32, heads=1)\n",
            "  (conv_layer2): GATConv(32, 32, heads=1)\n",
            "  (out): Linear(in_features=32, out_features=1, bias=True)\n",
            ")\n"
          ]
        }
      ]
    },
    {
      "cell_type": "markdown",
      "source": [
        "## Configuration"
      ],
      "metadata": {
        "id": "KRg_XQgLV-k-"
      }
    },
    {
      "cell_type": "code",
      "source": [
        "device = torch.device(\"cuda:0\" if torch.cuda.is_available() else \"cpu\")\n",
        "model = model.to(device)\n",
        "\n",
        "NUM_EPOCHS = 50\n",
        "\n",
        "loss_function = L1Loss()\n",
        "\n",
        "optimizer = Adam(params = model.parameters(), lr = 0.005)\n",
        "\n",
        "scheduler = ReduceLROnPlateau(optimizer, mode='min', factor=0.5, patience=20, min_lr=0.00001)"
      ],
      "metadata": {
        "id": "d4sk6oSzUlyZ"
      },
      "execution_count": 9,
      "outputs": []
    },
    {
      "cell_type": "code",
      "source": [
        "NB_GRAPHS_PER_BATCH = 64\n",
        "\n",
        "train = ZINC('/content/Graph-Neural-Networks/data', split = 'train')\n",
        "val = ZINC('/content/Graph-Neural-Networks/data', split = 'val')\n",
        "test = ZINC('/content/Graph-Neural-Networks/data', split = 'test')\n",
        "\n",
        "train_loader = DataLoader(train,\n",
        "                          batch_size = NB_GRAPHS_PER_BATCH,\n",
        "                          shuffle = True)\n",
        "\n",
        "val_loader = DataLoader(val,\n",
        "                        batch_size = NB_GRAPHS_PER_BATCH,\n",
        "                        shuffle = False)\n",
        "\n",
        "test_loader = DataLoader(test,\n",
        "                         batch_size = NB_GRAPHS_PER_BATCH,\n",
        "                         shuffle = False)\n",
        "\n",
        "print(\"Number of Batches in Train Loader :\", len(train_loader))\n",
        "print(\"Number of Batches in Val Loader :\", len(val_loader))\n",
        "print(\"Number of Batches in Test Loader :\", len(test_loader))"
      ],
      "metadata": {
        "colab": {
          "base_uri": "https://localhost:8080/"
        },
        "id": "5w6UgVk-WH_g",
        "outputId": "7c77daa1-54cc-498e-e304-23747070aceb"
      },
      "execution_count": 6,
      "outputs": [
        {
          "output_type": "stream",
          "name": "stderr",
          "text": [
            "Downloading https://www.dropbox.com/s/feo9qle74kg48gy/molecules.zip?dl=1\n",
            "Extracting /content/Graph-Neural-Networks/data/molecules.zip\n",
            "Downloading https://raw.githubusercontent.com/graphdeeplearning/benchmarking-gnns/master/data/molecules/train.index\n",
            "Downloading https://raw.githubusercontent.com/graphdeeplearning/benchmarking-gnns/master/data/molecules/val.index\n",
            "Downloading https://raw.githubusercontent.com/graphdeeplearning/benchmarking-gnns/master/data/molecules/test.index\n",
            "Processing...\n",
            "Processing train dataset: 100%|██████████| 220011/220011 [00:22<00:00, 9581.10it/s] \n",
            "Processing val dataset: 100%|██████████| 24445/24445 [00:04<00:00, 5602.23it/s] \n",
            "Processing test dataset: 100%|██████████| 5000/5000 [00:00<00:00, 9860.06it/s] \n",
            "Done!\n"
          ]
        },
        {
          "output_type": "stream",
          "name": "stdout",
          "text": [
            "Number of Batches in Train Loader : 3438\n",
            "Number of Batches in Val Loader : 382\n",
            "Number of Batches in Test Loader : 79\n"
          ]
        }
      ]
    },
    {
      "cell_type": "code",
      "source": [
        "test[0]"
      ],
      "metadata": {
        "colab": {
          "base_uri": "https://localhost:8080/"
        },
        "id": "Ohvg_olhyXFF",
        "outputId": "329db5f8-f66e-4f17-a1fd-ff0a82a6b0fd"
      },
      "execution_count": 7,
      "outputs": [
        {
          "output_type": "execute_result",
          "data": {
            "text/plain": [
              "Data(x=[24, 1], edge_index=[2, 52], edge_attr=[52], y=[1])"
            ]
          },
          "metadata": {},
          "execution_count": 7
        }
      ]
    },
    {
      "cell_type": "markdown",
      "source": [
        "## Train and Test Functions 🚀"
      ],
      "metadata": {
        "id": "HPSLWgkMWd69"
      }
    },
    {
      "cell_type": "code",
      "source": [
        "def train(train_loader, val_loader):\n",
        "  for epoch in range(NUM_EPOCHS+1):\n",
        "\n",
        "    model.train()\n",
        "    tot_train_loss = 0.0\n",
        "\n",
        "    for batch in train_loader:\n",
        "\n",
        "      # Use GPU\n",
        "      batch.to(device)\n",
        "\n",
        "      # Set Gradient values to 0\n",
        "      optimizer.zero_grad()\n",
        "\n",
        "      pred, y = model(batch.x.float(), batch.edge_index, batch.edge_attr, batch.batch)\n",
        "\n",
        "      # Compute Loss and Gradients\n",
        "      loss = loss_function(pred, batch.y.view(-1, 1).float())\n",
        "      loss.backward()\n",
        "      tot_train_loss += loss.item()\n",
        "\n",
        "      optimizer.step()\n",
        "\n",
        "    average_train_loss = tot_train_loss / len(train_loader)\n",
        "\n",
        "    model.eval()\n",
        "    with torch.no_grad():\n",
        "        tot_val_loss = 0.0\n",
        "\n",
        "        for val_batch in val_loader:\n",
        "            val_batch.to(device)\n",
        "\n",
        "            val_pred, val_y = model(val_batch.x.float(), val_batch.edge_index, val_batch.edge_attr, val_batch.batch)\n",
        "            val_loss = loss_function(val_pred, val_batch.y.view(-1, 1).float())\n",
        "\n",
        "            tot_val_loss += val_loss.item()\n",
        "\n",
        "        average_val_loss = tot_val_loss / len(val_loader)\n",
        "\n",
        "    scheduler.step(average_val_loss)\n",
        "\n",
        "    # if epoch % 10 == 0:\n",
        "    print(f\"Epoch {epoch} -> Train Loss: {average_train_loss:.4f} - Val Loss: {average_val_loss:.4f}\")\n",
        "\n",
        "\n",
        "def test(test_loader):\n",
        "  model.eval()\n",
        "  with torch.no_grad():\n",
        "      tot_test_loss = 0.0\n",
        "\n",
        "      for test_batch in test_loader:\n",
        "          test_batch.to(device)\n",
        "\n",
        "          test_pred, test_y = model(test_batch.x.float(), test_batch.edge_index, test_batch.edge_attr, test_batch.batch)\n",
        "          test_loss = loss_function(test_pred, test_batch.y.view(-1, 1).float())\n",
        "\n",
        "          tot_test_loss += test_loss.item()\n",
        "\n",
        "      average_test_loss = tot_test_loss / len(test_loader)\n",
        "\n",
        "  print(f\"Test Loss: {average_test_loss:.4f}\")"
      ],
      "metadata": {
        "id": "vMIZVAZiVAGe"
      },
      "execution_count": 10,
      "outputs": []
    },
    {
      "cell_type": "markdown",
      "source": [
        "## Model Training and Evaluation ⚡\n",
        "\n"
      ],
      "metadata": {
        "id": "AAL2ZbdGWtfJ"
      }
    },
    {
      "cell_type": "code",
      "source": [
        "train(train_loader, val_loader)"
      ],
      "metadata": {
        "colab": {
          "base_uri": "https://localhost:8080/"
        },
        "id": "LwjKLUGXVEPg",
        "outputId": "5eb03f45-f79c-4c4e-cea4-0a06bce41d3d"
      },
      "execution_count": 11,
      "outputs": [
        {
          "output_type": "stream",
          "name": "stderr",
          "text": [
            "/usr/local/lib/python3.10/dist-packages/torch_geometric/warnings.py:17: UserWarning: The usage of `scatter(reduce='max')` can be accelerated via the 'torch-scatter' package, but it was not found\n",
            "  warnings.warn(message)\n"
          ]
        },
        {
          "output_type": "stream",
          "name": "stdout",
          "text": [
            "Epoch 0 -> Train Loss: 1.1324 - Val Loss: 1.0270\n",
            "Epoch 1 -> Train Loss: 1.0118 - Val Loss: 1.0104\n",
            "Epoch 2 -> Train Loss: 0.9879 - Val Loss: 0.9783\n",
            "Epoch 3 -> Train Loss: 0.9781 - Val Loss: 0.9651\n",
            "Epoch 4 -> Train Loss: 0.9705 - Val Loss: 0.9526\n",
            "Epoch 5 -> Train Loss: 0.9452 - Val Loss: 0.9302\n",
            "Epoch 6 -> Train Loss: 0.9235 - Val Loss: 0.9272\n",
            "Epoch 7 -> Train Loss: 0.9156 - Val Loss: 0.8973\n",
            "Epoch 8 -> Train Loss: 0.9152 - Val Loss: 0.8986\n",
            "Epoch 9 -> Train Loss: 0.9271 - Val Loss: 0.9648\n",
            "Epoch 10 -> Train Loss: 0.9186 - Val Loss: 0.9027\n",
            "Epoch 11 -> Train Loss: 0.8889 - Val Loss: 0.8770\n",
            "Epoch 12 -> Train Loss: 0.8858 - Val Loss: 0.8740\n",
            "Epoch 13 -> Train Loss: 0.9238 - Val Loss: 0.8883\n",
            "Epoch 14 -> Train Loss: 0.8814 - Val Loss: 0.8714\n",
            "Epoch 15 -> Train Loss: 0.8856 - Val Loss: 0.8695\n",
            "Epoch 16 -> Train Loss: 0.8771 - Val Loss: 0.8721\n",
            "Epoch 17 -> Train Loss: 0.8767 - Val Loss: 0.8717\n",
            "Epoch 18 -> Train Loss: 0.8806 - Val Loss: 0.9316\n",
            "Epoch 19 -> Train Loss: 0.8772 - Val Loss: 0.8671\n",
            "Epoch 20 -> Train Loss: 0.8742 - Val Loss: 0.8616\n",
            "Epoch 21 -> Train Loss: 0.8735 - Val Loss: 0.8658\n",
            "Epoch 22 -> Train Loss: 0.8724 - Val Loss: 0.8623\n",
            "Epoch 23 -> Train Loss: 0.8944 - Val Loss: 0.8648\n",
            "Epoch 24 -> Train Loss: 0.8719 - Val Loss: 0.8696\n",
            "Epoch 25 -> Train Loss: 0.8700 - Val Loss: 0.8802\n",
            "Epoch 26 -> Train Loss: 0.8700 - Val Loss: 0.8625\n",
            "Epoch 27 -> Train Loss: 0.8682 - Val Loss: 0.8618\n",
            "Epoch 28 -> Train Loss: 0.8665 - Val Loss: 0.8799\n",
            "Epoch 29 -> Train Loss: 0.8660 - Val Loss: 0.8615\n",
            "Epoch 30 -> Train Loss: 0.8628 - Val Loss: 0.8816\n",
            "Epoch 31 -> Train Loss: 0.8928 - Val Loss: 0.9147\n",
            "Epoch 32 -> Train Loss: 0.9042 - Val Loss: 0.8960\n",
            "Epoch 33 -> Train Loss: 0.9012 - Val Loss: 0.8780\n",
            "Epoch 34 -> Train Loss: 0.8955 - Val Loss: 0.8807\n",
            "Epoch 35 -> Train Loss: 0.8897 - Val Loss: 0.8862\n",
            "Epoch 36 -> Train Loss: 0.8861 - Val Loss: 0.8773\n",
            "Epoch 37 -> Train Loss: 0.8840 - Val Loss: 0.8927\n",
            "Epoch 38 -> Train Loss: 0.8874 - Val Loss: 0.8880\n",
            "Epoch 39 -> Train Loss: 0.8957 - Val Loss: 0.8983\n",
            "Epoch 40 -> Train Loss: 0.8902 - Val Loss: 0.8804\n",
            "Epoch 41 -> Train Loss: 0.8765 - Val Loss: 0.8613\n",
            "Epoch 42 -> Train Loss: 0.8633 - Val Loss: 0.8585\n",
            "Epoch 43 -> Train Loss: 0.8631 - Val Loss: 0.8584\n",
            "Epoch 44 -> Train Loss: 0.8627 - Val Loss: 0.8521\n",
            "Epoch 45 -> Train Loss: 0.8606 - Val Loss: 0.8642\n",
            "Epoch 46 -> Train Loss: 0.8619 - Val Loss: 0.8528\n",
            "Epoch 47 -> Train Loss: 0.8594 - Val Loss: 0.8445\n",
            "Epoch 48 -> Train Loss: 0.8478 - Val Loss: 0.8396\n",
            "Epoch 49 -> Train Loss: 0.8350 - Val Loss: 0.8229\n",
            "Epoch 50 -> Train Loss: 0.8442 - Val Loss: 0.8596\n"
          ]
        }
      ]
    },
    {
      "cell_type": "code",
      "source": [
        "test(test_loader)"
      ],
      "metadata": {
        "colab": {
          "base_uri": "https://localhost:8080/"
        },
        "id": "2m6Lp0KTVMch",
        "outputId": "3015aedf-21b1-475f-efb3-2134e14cedb7"
      },
      "execution_count": 12,
      "outputs": [
        {
          "output_type": "stream",
          "name": "stdout",
          "text": [
            "Test Loss: 0.8571\n"
          ]
        }
      ]
    }
  ]
}