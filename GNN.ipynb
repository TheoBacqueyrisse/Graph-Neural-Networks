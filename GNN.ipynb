{
  "nbformat": 4,
  "nbformat_minor": 0,
  "metadata": {
    "colab": {
      "provenance": [],
      "gpuType": "T4",
      "authorship_tag": "ABX9TyOgYvUa0Ag4+FvAlqwEw92t",
      "include_colab_link": true
    },
    "kernelspec": {
      "name": "python3",
      "display_name": "Python 3"
    },
    "language_info": {
      "name": "python"
    },
    "accelerator": "GPU"
  },
  "cells": [
    {
      "cell_type": "markdown",
      "metadata": {
        "id": "view-in-github",
        "colab_type": "text"
      },
      "source": [
        "<a href=\"https://colab.research.google.com/github/TheoBacqueyrisse/Graph-Neural-Networks/blob/main/GNN.ipynb\" target=\"_parent\"><img src=\"https://colab.research.google.com/assets/colab-badge.svg\" alt=\"Open In Colab\"/></a>"
      ]
    },
    {
      "cell_type": "markdown",
      "source": [
        "# **Basic Graph Neural Network Architecture**"
      ],
      "metadata": {
        "id": "HWES76ASVnVw"
      }
    },
    {
      "cell_type": "code",
      "execution_count": 1,
      "metadata": {
        "id": "iago8mEcUJU8"
      },
      "outputs": [],
      "source": [
        "# Let us first clone the GitHub repository\n",
        "%%capture\n",
        "!git clone https://github.com/TheoBacqueyrisse/Graph-Neural-Networks.git"
      ]
    },
    {
      "cell_type": "code",
      "source": [
        "# Install dependencies\n",
        "%%capture\n",
        "%cd Graph-Neural-Networks\n",
        "!pip install -r requirements.txt"
      ],
      "metadata": {
        "id": "dYPCnXERUVwT"
      },
      "execution_count": 2,
      "outputs": []
    },
    {
      "cell_type": "code",
      "source": [
        "from utils import *"
      ],
      "metadata": {
        "id": "EikMfT1Vf87P"
      },
      "execution_count": 3,
      "outputs": []
    },
    {
      "cell_type": "markdown",
      "source": [
        "## GNN Module Architecture"
      ],
      "metadata": {
        "id": "VEK2xVcNWOBX"
      }
    },
    {
      "cell_type": "code",
      "source": [
        "EMBEDDING_SIZE = 16\n",
        "\n",
        "class GNN(torch.nn.Module):\n",
        "    def __init__(self):\n",
        "      super(GNN, self).__init__()\n",
        "\n",
        "      # Care about the design of the NN here\n",
        "      self.initial_conv = GATConv(in_channels = 1, out_channels = EMBEDDING_SIZE)\n",
        "      self.conv_layer1 = GATConv(in_channels = EMBEDDING_SIZE, out_channels = EMBEDDING_SIZE)\n",
        "      self.conv_layer2 = GATConv(in_channels = EMBEDDING_SIZE, out_channels = EMBEDDING_SIZE)\n",
        "\n",
        "      self.pooling = gap\n",
        "      self.out = Linear(in_features = EMBEDDING_SIZE, out_features = 1)\n",
        "\n",
        "    def forward(self, x, edge_index, batch_index):\n",
        "\n",
        "      y = self.initial_conv(x, edge_index)\n",
        "      y = F.sigmoid(y)\n",
        "      y = F.dropout(y, p = 0.2)\n",
        "\n",
        "      y = self.conv_layer1(y, edge_index)\n",
        "      y = F.sigmoid(y)\n",
        "      y = F.dropout(y, p = 0.1)\n",
        "\n",
        "      y = self.conv_layer2(y, edge_index)\n",
        "      y = F.sigmoid(y)\n",
        "\n",
        "      y = self.pooling(y, batch_index)\n",
        "\n",
        "      out = self.out(y)\n",
        "\n",
        "      return out, y\n",
        "\n",
        "model = GNN()\n",
        "print(model)"
      ],
      "metadata": {
        "colab": {
          "base_uri": "https://localhost:8080/"
        },
        "id": "ydZz5bITWRZu",
        "outputId": "aef246c7-ec80-4598-ce32-f56c14790c39"
      },
      "execution_count": 24,
      "outputs": [
        {
          "output_type": "stream",
          "name": "stdout",
          "text": [
            "GNN(\n",
            "  (initial_conv): GATConv(1, 16, heads=1)\n",
            "  (conv_layer1): GATConv(16, 16, heads=1)\n",
            "  (conv_layer2): GATConv(16, 16, heads=1)\n",
            "  (out): Linear(in_features=16, out_features=1, bias=True)\n",
            ")\n"
          ]
        }
      ]
    },
    {
      "cell_type": "markdown",
      "source": [
        "## Configuration"
      ],
      "metadata": {
        "id": "KRg_XQgLV-k-"
      }
    },
    {
      "cell_type": "code",
      "source": [
        "device = torch.device(\"cuda:0\" if torch.cuda.is_available() else \"cpu\")\n",
        "model = model.to(device)\n",
        "\n",
        "NUM_EPOCHS = 100\n",
        "\n",
        "loss_function = L1Loss()\n",
        "\n",
        "optimizer = Adam(params = model.parameters(), lr = 0.001)\n",
        "\n",
        "scheduler = ReduceLROnPlateau(optimizer, mode='min', factor=0.5, patience=20, min_lr=0.00001)"
      ],
      "metadata": {
        "id": "d4sk6oSzUlyZ"
      },
      "execution_count": 25,
      "outputs": []
    },
    {
      "cell_type": "code",
      "source": [
        "NB_GRAPHS_PER_BATCH = 64\n",
        "\n",
        "train = ZINC('/content/Graph-Neural-Networks/data', split = 'train')\n",
        "val = ZINC('/content/Graph-Neural-Networks/data', split = 'val')\n",
        "test = ZINC('/content/Graph-Neural-Networks/data', split = 'test')\n",
        "\n",
        "train_loader = DataLoader(train,\n",
        "                          batch_size = NB_GRAPHS_PER_BATCH,\n",
        "                          shuffle = True)\n",
        "\n",
        "val_loader = DataLoader(val,\n",
        "                        batch_size = NB_GRAPHS_PER_BATCH,\n",
        "                        shuffle = False)\n",
        "\n",
        "test_loader = DataLoader(test,\n",
        "                         batch_size = NB_GRAPHS_PER_BATCH,\n",
        "                         shuffle = False)\n",
        "\n",
        "print(\"Number of Batches in Train Loader :\", len(train_loader))\n",
        "print(\"Number of Batches in Val Loader :\", len(val_loader))\n",
        "print(\"Number of Batches in Test Loader :\", len(test_loader))"
      ],
      "metadata": {
        "colab": {
          "base_uri": "https://localhost:8080/"
        },
        "id": "5w6UgVk-WH_g",
        "outputId": "0b23548e-7064-4ae5-8e8c-06756bcd9add"
      },
      "execution_count": 7,
      "outputs": [
        {
          "output_type": "stream",
          "name": "stderr",
          "text": [
            "Downloading https://www.dropbox.com/s/feo9qle74kg48gy/molecules.zip?dl=1\n",
            "Extracting /content/Graph-Neural-Networks/data/molecules.zip\n",
            "Downloading https://raw.githubusercontent.com/graphdeeplearning/benchmarking-gnns/master/data/molecules/train.index\n",
            "Downloading https://raw.githubusercontent.com/graphdeeplearning/benchmarking-gnns/master/data/molecules/val.index\n",
            "Downloading https://raw.githubusercontent.com/graphdeeplearning/benchmarking-gnns/master/data/molecules/test.index\n",
            "Processing...\n",
            "Processing train dataset: 100%|██████████| 220011/220011 [00:21<00:00, 10241.68it/s]\n",
            "Processing val dataset: 100%|██████████| 24445/24445 [00:03<00:00, 7140.61it/s] \n",
            "Processing test dataset: 100%|██████████| 5000/5000 [00:00<00:00, 10123.06it/s]\n",
            "Done!\n"
          ]
        },
        {
          "output_type": "stream",
          "name": "stdout",
          "text": [
            "Number of Batches in Train Loader : 3438\n",
            "Number of Batches in Val Loader : 382\n",
            "Number of Batches in Test Loader : 79\n"
          ]
        }
      ]
    },
    {
      "cell_type": "markdown",
      "source": [
        "## Train and Test Functions 🚀"
      ],
      "metadata": {
        "id": "HPSLWgkMWd69"
      }
    },
    {
      "cell_type": "code",
      "source": [
        "def train(train_loader, val_loader):\n",
        "  for epoch in range(NUM_EPOCHS+1):\n",
        "\n",
        "    model.train()\n",
        "    tot_train_loss = 0.0\n",
        "\n",
        "    for batch in train_loader:\n",
        "\n",
        "      # Use GPU\n",
        "      batch.to(device)\n",
        "\n",
        "      # Set Gradient values to 0\n",
        "      optimizer.zero_grad()\n",
        "\n",
        "      pred, y = model(batch.x.float(), batch.edge_index, batch.batch)\n",
        "\n",
        "      # Compute Loss and Gradients\n",
        "      loss = loss_function(pred, batch.y.view(-1, 1).float())\n",
        "      loss.backward()\n",
        "      tot_train_loss += loss.item()\n",
        "\n",
        "      optimizer.step()\n",
        "\n",
        "    average_train_loss = tot_train_loss / len(train_loader)\n",
        "\n",
        "    model.eval()\n",
        "    with torch.no_grad():\n",
        "        tot_val_loss = 0.0\n",
        "\n",
        "        for val_batch in val_loader:\n",
        "            val_batch.to(device)\n",
        "\n",
        "            val_pred, val_y = model(val_batch.x.float(), val_batch.edge_index, val_batch.batch)\n",
        "            val_loss = loss_function(val_pred, val_batch.y.view(-1, 1).float())\n",
        "\n",
        "            tot_val_loss += val_loss.item()\n",
        "\n",
        "        average_val_loss = tot_val_loss / len(val_loader)\n",
        "\n",
        "    scheduler.step(average_val_loss)\n",
        "\n",
        "    # if epoch % 10 == 0:\n",
        "    print(f\"Epoch {epoch} -> Train Loss: {average_train_loss:.4f} - Val Loss: {average_val_loss:.4f}\")\n",
        "\n",
        "\n",
        "def test(test_loader):\n",
        "  model.eval()\n",
        "  preds = []\n",
        "  actual = []\n",
        "\n",
        "  with torch.no_grad():\n",
        "      tot_test_loss = 0.0\n",
        "\n",
        "      for test_batch in test_loader:\n",
        "          test_batch.to(device)\n",
        "\n",
        "          test_pred, test_y = model(test_batch.x.float(), test_batch.edge_index, test_batch.batch)\n",
        "          test_loss = loss_function(test_pred, test_batch.y.view(-1, 1).float())\n",
        "\n",
        "          tot_test_loss += test_loss.item()\n",
        "\n",
        "      average_test_loss = tot_test_loss / len(test_loader)\n",
        "\n",
        "  print(f\"Test Loss: {average_test_loss:.4f}\")"
      ],
      "metadata": {
        "id": "vMIZVAZiVAGe"
      },
      "execution_count": 42,
      "outputs": []
    },
    {
      "cell_type": "markdown",
      "source": [
        "## Model Training and Evaluation ⚡\n",
        "\n"
      ],
      "metadata": {
        "id": "AAL2ZbdGWtfJ"
      }
    },
    {
      "cell_type": "code",
      "source": [
        "train(train_loader, val_loader)"
      ],
      "metadata": {
        "colab": {
          "base_uri": "https://localhost:8080/"
        },
        "id": "LwjKLUGXVEPg",
        "outputId": "7917a5d3-7d18-4bb5-fa2c-29a1869f0f0a"
      },
      "execution_count": 27,
      "outputs": [
        {
          "output_type": "stream",
          "name": "stdout",
          "text": [
            "Epoch 0 -> Train Loss: 1.2615 - Val Loss: 1.1584\n",
            "Epoch 1 -> Train Loss: 1.1451 - Val Loss: 1.1347\n",
            "Epoch 2 -> Train Loss: 1.1327 - Val Loss: 1.1212\n",
            "Epoch 3 -> Train Loss: 1.1205 - Val Loss: 1.1145\n",
            "Epoch 4 -> Train Loss: 1.1038 - Val Loss: 1.0938\n",
            "Epoch 5 -> Train Loss: 1.0849 - Val Loss: 1.0743\n",
            "Epoch 6 -> Train Loss: 1.0677 - Val Loss: 1.0647\n",
            "Epoch 7 -> Train Loss: 1.0519 - Val Loss: 1.0428\n",
            "Epoch 8 -> Train Loss: 1.0419 - Val Loss: 1.0348\n",
            "Epoch 9 -> Train Loss: 1.0328 - Val Loss: 1.0296\n",
            "Epoch 10 -> Train Loss: 1.0252 - Val Loss: 1.0187\n",
            "Epoch 11 -> Train Loss: 1.0175 - Val Loss: 1.0103\n",
            "Epoch 12 -> Train Loss: 1.0093 - Val Loss: 0.9991\n",
            "Epoch 13 -> Train Loss: 1.0000 - Val Loss: 0.9922\n",
            "Epoch 14 -> Train Loss: 0.9895 - Val Loss: 0.9790\n",
            "Epoch 15 -> Train Loss: 0.9775 - Val Loss: 0.9717\n",
            "Epoch 16 -> Train Loss: 0.9671 - Val Loss: 0.9583\n",
            "Epoch 17 -> Train Loss: 0.9578 - Val Loss: 0.9510\n",
            "Epoch 18 -> Train Loss: 0.9510 - Val Loss: 0.9433\n",
            "Epoch 19 -> Train Loss: 0.9452 - Val Loss: 0.9412\n",
            "Epoch 20 -> Train Loss: 0.9390 - Val Loss: 0.9320\n",
            "Epoch 21 -> Train Loss: 0.9344 - Val Loss: 0.9259\n",
            "Epoch 22 -> Train Loss: 0.9293 - Val Loss: 0.9236\n",
            "Epoch 23 -> Train Loss: 0.9255 - Val Loss: 0.9192\n",
            "Epoch 24 -> Train Loss: 0.9216 - Val Loss: 0.9175\n",
            "Epoch 25 -> Train Loss: 0.9191 - Val Loss: 0.9142\n",
            "Epoch 26 -> Train Loss: 0.9167 - Val Loss: 0.9113\n",
            "Epoch 27 -> Train Loss: 0.9137 - Val Loss: 0.9127\n",
            "Epoch 28 -> Train Loss: 0.9123 - Val Loss: 0.9099\n",
            "Epoch 29 -> Train Loss: 0.9114 - Val Loss: 0.9062\n",
            "Epoch 30 -> Train Loss: 0.9089 - Val Loss: 0.9032\n",
            "Epoch 31 -> Train Loss: 0.9077 - Val Loss: 0.9114\n",
            "Epoch 32 -> Train Loss: 0.9061 - Val Loss: 0.9023\n",
            "Epoch 33 -> Train Loss: 0.9046 - Val Loss: 0.9007\n",
            "Epoch 34 -> Train Loss: 0.9021 - Val Loss: 0.8962\n",
            "Epoch 35 -> Train Loss: 0.9018 - Val Loss: 0.8974\n",
            "Epoch 36 -> Train Loss: 0.9002 - Val Loss: 0.8956\n",
            "Epoch 37 -> Train Loss: 0.8993 - Val Loss: 0.8943\n",
            "Epoch 38 -> Train Loss: 0.8977 - Val Loss: 0.8937\n",
            "Epoch 39 -> Train Loss: 0.9000 - Val Loss: 0.8936\n",
            "Epoch 40 -> Train Loss: 0.8952 - Val Loss: 0.8921\n",
            "Epoch 41 -> Train Loss: 0.8960 - Val Loss: 0.8898\n",
            "Epoch 42 -> Train Loss: 0.8945 - Val Loss: 0.8876\n",
            "Epoch 43 -> Train Loss: 0.8922 - Val Loss: 0.8861\n",
            "Epoch 44 -> Train Loss: 0.8922 - Val Loss: 0.8848\n",
            "Epoch 45 -> Train Loss: 0.8913 - Val Loss: 0.8846\n",
            "Epoch 46 -> Train Loss: 0.8897 - Val Loss: 0.8845\n",
            "Epoch 47 -> Train Loss: 0.8896 - Val Loss: 0.8858\n",
            "Epoch 48 -> Train Loss: 0.8887 - Val Loss: 0.8834\n",
            "Epoch 49 -> Train Loss: 0.8867 - Val Loss: 0.8816\n",
            "Epoch 50 -> Train Loss: 0.8868 - Val Loss: 0.8783\n",
            "Epoch 51 -> Train Loss: 0.8845 - Val Loss: 0.8813\n",
            "Epoch 52 -> Train Loss: 0.8840 - Val Loss: 0.8778\n",
            "Epoch 53 -> Train Loss: 0.8830 - Val Loss: 0.8757\n",
            "Epoch 54 -> Train Loss: 0.8826 - Val Loss: 0.8793\n",
            "Epoch 55 -> Train Loss: 0.8823 - Val Loss: 0.8759\n",
            "Epoch 56 -> Train Loss: 0.8807 - Val Loss: 0.8722\n",
            "Epoch 57 -> Train Loss: 0.8794 - Val Loss: 0.8700\n",
            "Epoch 58 -> Train Loss: 0.8784 - Val Loss: 0.8726\n",
            "Epoch 59 -> Train Loss: 0.8758 - Val Loss: 0.8734\n",
            "Epoch 60 -> Train Loss: 0.8749 - Val Loss: 0.8664\n",
            "Epoch 61 -> Train Loss: 0.8725 - Val Loss: 0.8638\n",
            "Epoch 62 -> Train Loss: 0.8709 - Val Loss: 0.8672\n",
            "Epoch 63 -> Train Loss: 0.8690 - Val Loss: 0.8635\n",
            "Epoch 64 -> Train Loss: 0.8672 - Val Loss: 0.8600\n",
            "Epoch 65 -> Train Loss: 0.8658 - Val Loss: 0.8579\n",
            "Epoch 66 -> Train Loss: 0.8633 - Val Loss: 0.8562\n",
            "Epoch 67 -> Train Loss: 0.8608 - Val Loss: 0.8517\n",
            "Epoch 68 -> Train Loss: 0.8600 - Val Loss: 0.8540\n",
            "Epoch 69 -> Train Loss: 0.8564 - Val Loss: 0.8533\n",
            "Epoch 70 -> Train Loss: 0.8554 - Val Loss: 0.8553\n",
            "Epoch 71 -> Train Loss: 0.8550 - Val Loss: 0.8498\n",
            "Epoch 72 -> Train Loss: 0.8529 - Val Loss: 0.8468\n",
            "Epoch 73 -> Train Loss: 0.8530 - Val Loss: 0.8494\n",
            "Epoch 74 -> Train Loss: 0.8502 - Val Loss: 0.8478\n",
            "Epoch 75 -> Train Loss: 0.8492 - Val Loss: 0.8460\n",
            "Epoch 76 -> Train Loss: 0.8493 - Val Loss: 0.8453\n",
            "Epoch 77 -> Train Loss: 0.8477 - Val Loss: 0.8472\n",
            "Epoch 78 -> Train Loss: 0.8467 - Val Loss: 0.8427\n",
            "Epoch 79 -> Train Loss: 0.8472 - Val Loss: 0.8610\n",
            "Epoch 80 -> Train Loss: 0.8455 - Val Loss: 0.8401\n",
            "Epoch 81 -> Train Loss: 0.8444 - Val Loss: 0.8371\n",
            "Epoch 82 -> Train Loss: 0.8432 - Val Loss: 0.8413\n",
            "Epoch 83 -> Train Loss: 0.8439 - Val Loss: 0.8347\n",
            "Epoch 84 -> Train Loss: 0.8428 - Val Loss: 0.8376\n",
            "Epoch 85 -> Train Loss: 0.8419 - Val Loss: 0.8399\n",
            "Epoch 86 -> Train Loss: 0.8406 - Val Loss: 0.8385\n",
            "Epoch 87 -> Train Loss: 0.8411 - Val Loss: 0.8402\n",
            "Epoch 88 -> Train Loss: 0.8414 - Val Loss: 0.8387\n",
            "Epoch 89 -> Train Loss: 0.8411 - Val Loss: 0.8337\n",
            "Epoch 90 -> Train Loss: 0.8394 - Val Loss: 0.8374\n",
            "Epoch 91 -> Train Loss: 0.8399 - Val Loss: 0.8314\n",
            "Epoch 92 -> Train Loss: 0.8387 - Val Loss: 0.8368\n",
            "Epoch 93 -> Train Loss: 0.8383 - Val Loss: 0.8367\n",
            "Epoch 94 -> Train Loss: 0.8384 - Val Loss: 0.8344\n",
            "Epoch 95 -> Train Loss: 0.8377 - Val Loss: 0.8325\n",
            "Epoch 96 -> Train Loss: 0.8370 - Val Loss: 0.8337\n",
            "Epoch 97 -> Train Loss: 0.8381 - Val Loss: 0.8518\n",
            "Epoch 98 -> Train Loss: 0.8366 - Val Loss: 0.8339\n",
            "Epoch 99 -> Train Loss: 0.8363 - Val Loss: 0.8336\n",
            "Epoch 100 -> Train Loss: 0.8363 - Val Loss: 0.8362\n"
          ]
        }
      ]
    },
    {
      "cell_type": "code",
      "source": [
        "test(test_loader)"
      ],
      "metadata": {
        "colab": {
          "base_uri": "https://localhost:8080/"
        },
        "id": "2m6Lp0KTVMch",
        "outputId": "904cb2e9-cca9-41de-b5f8-9341cad4efb9"
      },
      "execution_count": 43,
      "outputs": [
        {
          "output_type": "stream",
          "name": "stdout",
          "text": [
            "Test Loss: 0.8380\n"
          ]
        }
      ]
    }
  ]
}