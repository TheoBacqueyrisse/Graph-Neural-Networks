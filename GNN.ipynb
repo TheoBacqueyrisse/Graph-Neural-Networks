{
  "nbformat": 4,
  "nbformat_minor": 0,
  "metadata": {
    "colab": {
      "provenance": [],
      "authorship_tag": "ABX9TyMw51cnWbs5wbPKt+zp/rYv",
      "include_colab_link": true
    },
    "kernelspec": {
      "name": "python3",
      "display_name": "Python 3"
    },
    "language_info": {
      "name": "python"
    }
  },
  "cells": [
    {
      "cell_type": "markdown",
      "metadata": {
        "id": "view-in-github",
        "colab_type": "text"
      },
      "source": [
        "<a href=\"https://colab.research.google.com/github/TheoBacqueyrisse/Graph-Neural-Networks/blob/main/GNN.ipynb\" target=\"_parent\"><img src=\"https://colab.research.google.com/assets/colab-badge.svg\" alt=\"Open In Colab\"/></a>"
      ]
    },
    {
      "cell_type": "markdown",
      "source": [
        "# **Basic Graph Neural Network Architecture**"
      ],
      "metadata": {
        "id": "HWES76ASVnVw"
      }
    },
    {
      "cell_type": "code",
      "execution_count": 1,
      "metadata": {
        "id": "iago8mEcUJU8"
      },
      "outputs": [],
      "source": [
        "# Let us first clone the GitHub repository\n",
        "%%capture\n",
        "!git clone https://github.com/TheoBacqueyrisse/Graph-Neural-Networks.git"
      ]
    },
    {
      "cell_type": "code",
      "source": [
        "# Install dependencies\n",
        "%%capture\n",
        "%cd Graph-Neural-Networks\n",
        "!pip install -r requirements.txt"
      ],
      "metadata": {
        "id": "dYPCnXERUVwT"
      },
      "execution_count": 2,
      "outputs": []
    },
    {
      "cell_type": "code",
      "source": [
        "from utils import *"
      ],
      "metadata": {
        "id": "EikMfT1Vf87P"
      },
      "execution_count": 3,
      "outputs": []
    },
    {
      "cell_type": "markdown",
      "source": [
        "## GNN Module Architecture"
      ],
      "metadata": {
        "id": "VEK2xVcNWOBX"
      }
    },
    {
      "cell_type": "code",
      "source": [
        "EMBEDDING_SIZE = 32\n",
        "\n",
        "class GNN(torch.nn.Module):\n",
        "    def __init__(self):\n",
        "      super(GNN, self).__init__()\n",
        "\n",
        "      # Care about the design of the NN here\n",
        "      self.initial_conv = GATConv(in_channels = 1, out_channels = EMBEDDING_SIZE)\n",
        "      self.conv_layer1 = GATConv(in_channels = EMBEDDING_SIZE, out_channels = EMBEDDING_SIZE)\n",
        "      self.conv_layer2 = GATConv(in_channels = EMBEDDING_SIZE, out_channels = EMBEDDING_SIZE)\n",
        "\n",
        "      self.pooling = gmp\n",
        "      self.out = Linear(in_features = EMBEDDING_SIZE, out_features = 1)\n",
        "\n",
        "    def forward(self, x, edge_index, batch_index):\n",
        "\n",
        "      y = self.initial_conv(x, edge_index)\n",
        "      y = F.sigmoid(y)\n",
        "      y = F.dropout(y, p = 0.2)\n",
        "\n",
        "      y = self.conv_layer1(y, edge_index)\n",
        "      y = F.sigmoid(y)\n",
        "      y = F.dropout(y, p = 0.1)\n",
        "\n",
        "      y = self.conv_layer2(y, edge_index)\n",
        "      y = F.sigmoid(y)\n",
        "\n",
        "      y = self.pooling(y, batch_index)\n",
        "\n",
        "      out = self.out(y)\n",
        "\n",
        "      return out, y\n",
        "\n",
        "model = GNN()\n",
        "print(model)"
      ],
      "metadata": {
        "colab": {
          "base_uri": "https://localhost:8080/"
        },
        "id": "ydZz5bITWRZu",
        "outputId": "9ec7f18b-18c6-4329-e233-fb7327ac969a"
      },
      "execution_count": 5,
      "outputs": [
        {
          "output_type": "stream",
          "name": "stdout",
          "text": [
            "GNN(\n",
            "  (initial_conv): GATConv(1, 32, heads=1)\n",
            "  (conv_layer1): GATConv(32, 32, heads=1)\n",
            "  (conv_layer2): GATConv(32, 32, heads=1)\n",
            "  (out): Linear(in_features=32, out_features=1, bias=True)\n",
            ")\n"
          ]
        }
      ]
    },
    {
      "cell_type": "markdown",
      "source": [
        "## Configuration"
      ],
      "metadata": {
        "id": "KRg_XQgLV-k-"
      }
    },
    {
      "cell_type": "code",
      "source": [
        "device = torch.device(\"cuda:0\" if torch.cuda.is_available() else \"cpu\")\n",
        "model = model.to(device)\n",
        "\n",
        "NUM_EPOCHS = 10\n",
        "\n",
        "loss_function = L1Loss()\n",
        "\n",
        "optimizer = Adam(params = model.parameters(), lr = 0.005)\n",
        "\n",
        "scheduler = ReduceLROnPlateau(optimizer, mode='min', factor=0.5, patience=20, min_lr=0.00001)"
      ],
      "metadata": {
        "id": "d4sk6oSzUlyZ"
      },
      "execution_count": 6,
      "outputs": []
    },
    {
      "cell_type": "code",
      "source": [
        "NB_GRAPHS_PER_BATCH = 64\n",
        "\n",
        "train = ZINC('/content/Graph-Neural-Networks/data', split = 'train')\n",
        "val = ZINC('/content/Graph-Neural-Networks/data', split = 'val')\n",
        "test = ZINC('/content/Graph-Neural-Networks/data', split = 'test')\n",
        "\n",
        "train_loader = DataLoader(train,\n",
        "                          batch_size = NB_GRAPHS_PER_BATCH,\n",
        "                          shuffle = True)\n",
        "\n",
        "val_loader = DataLoader(val,\n",
        "                        batch_size = NB_GRAPHS_PER_BATCH,\n",
        "                        shuffle = False)\n",
        "\n",
        "test_loader = DataLoader(test,\n",
        "                         batch_size = NB_GRAPHS_PER_BATCH,\n",
        "                         shuffle = False)\n",
        "\n",
        "print(\"Number of Batches in Train Loader :\", len(train_loader))\n",
        "print(\"Number of Batches in Val Loader :\", len(val_loader))\n",
        "print(\"Number of Batches in Test Loader :\", len(test_loader))"
      ],
      "metadata": {
        "colab": {
          "base_uri": "https://localhost:8080/"
        },
        "id": "5w6UgVk-WH_g",
        "outputId": "e10bf0f3-fbfb-4601-aa7e-6cb209034c98"
      },
      "execution_count": 7,
      "outputs": [
        {
          "output_type": "stream",
          "name": "stderr",
          "text": [
            "Downloading https://www.dropbox.com/s/feo9qle74kg48gy/molecules.zip?dl=1\n",
            "Extracting /content/Graph-Neural-Networks/data/molecules.zip\n",
            "Downloading https://raw.githubusercontent.com/graphdeeplearning/benchmarking-gnns/master/data/molecules/train.index\n",
            "Downloading https://raw.githubusercontent.com/graphdeeplearning/benchmarking-gnns/master/data/molecules/val.index\n",
            "Downloading https://raw.githubusercontent.com/graphdeeplearning/benchmarking-gnns/master/data/molecules/test.index\n",
            "Processing...\n",
            "Processing train dataset: 100%|██████████| 220011/220011 [00:33<00:00, 6613.51it/s]\n",
            "Processing val dataset: 100%|██████████| 24445/24445 [00:05<00:00, 4628.41it/s] \n",
            "Processing test dataset: 100%|██████████| 5000/5000 [00:00<00:00, 7046.15it/s]\n",
            "Done!\n"
          ]
        },
        {
          "output_type": "stream",
          "name": "stdout",
          "text": [
            "Number of Batches in Train Loader : 3438\n",
            "Number of Batches in Val Loader : 382\n",
            "Number of Batches in Test Loader : 79\n"
          ]
        }
      ]
    },
    {
      "cell_type": "markdown",
      "source": [
        "## Train and Test Functions 🚀"
      ],
      "metadata": {
        "id": "HPSLWgkMWd69"
      }
    },
    {
      "cell_type": "code",
      "source": [
        "def train(train_loader, val_loader):\n",
        "  for epoch in range(NUM_EPOCHS+1):\n",
        "\n",
        "    model.train()\n",
        "    tot_train_loss = 0.0\n",
        "\n",
        "    for batch in train_loader:\n",
        "\n",
        "      # Use GPU\n",
        "      batch.to(device)\n",
        "\n",
        "      # Set Gradient values to 0\n",
        "      optimizer.zero_grad()\n",
        "\n",
        "      pred, y = model(batch.x.float(), batch.edge_index, batch.batch)\n",
        "\n",
        "      # Compute Loss and Gradients\n",
        "      loss = loss_function(pred, batch.y.view(-1, 1).float())\n",
        "      loss.backward()\n",
        "      tot_train_loss += loss.item()\n",
        "\n",
        "      optimizer.step()\n",
        "\n",
        "    average_train_loss = tot_train_loss / len(train_loader)\n",
        "\n",
        "    model.eval()\n",
        "    with torch.no_grad():\n",
        "        tot_val_loss = 0.0\n",
        "\n",
        "        for val_batch in val_loader:\n",
        "            val_batch.to(device)\n",
        "\n",
        "            val_pred, val_y = model(val_batch.x.float(), val_batch.edge_index, val_batch.batch)\n",
        "            val_loss = loss_function(val_pred, val_batch.y.view(-1, 1).float())\n",
        "\n",
        "            tot_val_loss += val_loss.item()\n",
        "\n",
        "        average_val_loss = tot_val_loss / len(val_loader)\n",
        "\n",
        "    scheduler.step(average_val_loss)\n",
        "\n",
        "    # if epoch % 10 == 0:\n",
        "    print(f\"Epoch {epoch} -> Train Loss: {average_train_loss:.4f} - Val Loss: {average_val_loss:.4f}\")\n",
        "\n",
        "\n",
        "def test(test_loader):\n",
        "  model.eval()\n",
        "  with torch.no_grad():\n",
        "      tot_test_loss = 0.0\n",
        "\n",
        "      for test_batch in test_loader:\n",
        "          test_batch.to(device)\n",
        "\n",
        "          test_pred, test_y = model(test_batch.x.float(), test_batch.edge_index, test_batch.batch)\n",
        "          test_loss = loss_function(test_pred, test_batch.y.view(-1, 1).float())\n",
        "\n",
        "          tot_test_loss += test_loss.item()\n",
        "\n",
        "      average_test_loss = tot_test_loss / len(test_loader)\n",
        "\n",
        "  print(f\"Test Loss: {average_test_loss:.4f}\")"
      ],
      "metadata": {
        "id": "vMIZVAZiVAGe"
      },
      "execution_count": null,
      "outputs": []
    },
    {
      "cell_type": "markdown",
      "source": [
        "## Model Training and Evaluation ⚡\n",
        "\n"
      ],
      "metadata": {
        "id": "AAL2ZbdGWtfJ"
      }
    },
    {
      "cell_type": "code",
      "source": [
        "train(train_loader, val_loader)"
      ],
      "metadata": {
        "colab": {
          "base_uri": "https://localhost:8080/"
        },
        "id": "LwjKLUGXVEPg",
        "outputId": "f29f7899-52f2-40a0-e4cc-0e7fe27c437a"
      },
      "execution_count": null,
      "outputs": [
        {
          "output_type": "stream",
          "name": "stdout",
          "text": [
            "Epoch 0 -> Train Loss: 1.1330 - Val Loss: 1.0131\n",
            "Epoch 1 -> Train Loss: 1.0006 - Val Loss: 0.9758\n",
            "Epoch 2 -> Train Loss: 0.9843 - Val Loss: 0.9714\n",
            "Epoch 3 -> Train Loss: 0.9762 - Val Loss: 0.9763\n",
            "Epoch 4 -> Train Loss: 0.9670 - Val Loss: 0.9435\n",
            "Epoch 5 -> Train Loss: 0.9379 - Val Loss: 0.9215\n",
            "Epoch 6 -> Train Loss: 0.9263 - Val Loss: 0.9275\n",
            "Epoch 7 -> Train Loss: 0.9198 - Val Loss: 0.9142\n",
            "Epoch 8 -> Train Loss: 0.9139 - Val Loss: 0.9072\n",
            "Epoch 9 -> Train Loss: 0.9098 - Val Loss: 0.9038\n",
            "Epoch 10 -> Train Loss: 0.9013 - Val Loss: 0.8878\n"
          ]
        }
      ]
    },
    {
      "cell_type": "code",
      "source": [
        "test(test_loader)"
      ],
      "metadata": {
        "colab": {
          "base_uri": "https://localhost:8080/"
        },
        "id": "2m6Lp0KTVMch",
        "outputId": "87ece1fb-a997-4b5b-86ad-51579a3af2d7"
      },
      "execution_count": null,
      "outputs": [
        {
          "output_type": "stream",
          "name": "stdout",
          "text": [
            "Test Loss: 0.8807\n"
          ]
        }
      ]
    }
  ]
}