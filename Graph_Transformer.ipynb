{
  "nbformat": 4,
  "nbformat_minor": 0,
  "metadata": {
    "colab": {
      "provenance": [],
      "gpuType": "T4",
      "authorship_tag": "ABX9TyOfLVF6BjrUKwb9Bah4Q48q",
      "include_colab_link": true
    },
    "kernelspec": {
      "name": "python3",
      "display_name": "Python 3"
    },
    "language_info": {
      "name": "python"
    },
    "accelerator": "GPU"
  },
  "cells": [
    {
      "cell_type": "markdown",
      "metadata": {
        "id": "view-in-github",
        "colab_type": "text"
      },
      "source": [
        "<a href=\"https://colab.research.google.com/github/TheoBacqueyrisse/graph-neural-networks/blob/main/Graph_Transformer.ipynb\" target=\"_parent\"><img src=\"https://colab.research.google.com/assets/colab-badge.svg\" alt=\"Open In Colab\"/></a>"
      ]
    },
    {
      "cell_type": "markdown",
      "source": [
        "# **Graph Transformer Architecture**"
      ],
      "metadata": {
        "id": "0kCdn3OkECb6"
      }
    },
    {
      "cell_type": "code",
      "source": [
        "# Let us first clone the GitHub repository\n",
        "%%capture\n",
        "!git clone https://github.com/TheoBacqueyrisse/Graph-Neural-Networks.git"
      ],
      "metadata": {
        "id": "2j-Ix4xyqU-P"
      },
      "execution_count": 1,
      "outputs": []
    },
    {
      "cell_type": "code",
      "source": [
        "# Install dependencies\n",
        "%%capture\n",
        "%cd /content/Graph-Neural-Networks\n",
        "!pip install -r requirements.txt"
      ],
      "metadata": {
        "id": "A9Qh5B6EqYlS"
      },
      "execution_count": 2,
      "outputs": []
    },
    {
      "cell_type": "code",
      "source": [
        "from utils import *"
      ],
      "metadata": {
        "id": "xboe1-TzqbnV"
      },
      "execution_count": 3,
      "outputs": []
    },
    {
      "cell_type": "code",
      "source": [
        "import torch.nn as nn\n",
        "from torch_geometric.nn import TransformerConv"
      ],
      "metadata": {
        "id": "4dQkgzkE3zqW"
      },
      "execution_count": 4,
      "outputs": []
    },
    {
      "cell_type": "code",
      "source": [
        "EMBEDDING_SIZE = 72\n",
        "class GraphTransformer(nn.Module):\n",
        "    def __init__(self, input_dim, hidden_dim, output_dim):\n",
        "        super(GraphTransformer, self).__init__()\n",
        "\n",
        "        self.conv1 = TransformerConv(input_dim, hidden_dim, heads = 4)\n",
        "        self.conv2 = TransformerConv(hidden_dim * 4, hidden_dim, heads = 4)\n",
        "\n",
        "        self.pool = gap\n",
        "\n",
        "        self.out = nn.Linear(hidden_dim * 4, output_dim)\n",
        "\n",
        "    def forward(self, data, batch_index):\n",
        "\n",
        "        x, edge_index, edge_attr = data.x.float(), data.edge_index, data.edge_attr\n",
        "\n",
        "        max_edge_attr_size = 72\n",
        "\n",
        "        if edge_attr.size(0) != max_edge_attr_size:\n",
        "            if edge_attr.size(0) < max_edge_attr_size:\n",
        "                edge_attr = torch.nn.functional.pad(edge_attr, (0, max_edge_attr_size - edge_attr.size(0)))\n",
        "            else:\n",
        "                edge_attr = edge_attr[:max_edge_attr_size]\n",
        "\n",
        "        x = self.conv1(x, edge_index, edge_attr)\n",
        "        x = F.sigmoid(x)\n",
        "        x = F.dropout(x, p = 0.3)\n",
        "\n",
        "        x = self.conv2(x, edge_index, edge_attr)\n",
        "        x = F.sigmoid(x)\n",
        "        x = F.dropout(x, p = 0.2)\n",
        "\n",
        "        x = self.pool(x, batch_index)\n",
        "\n",
        "        x = self.out(x)\n",
        "\n",
        "        return x\n",
        "\n",
        "model = GraphTransformer(input_dim = 1, hidden_dim = EMBEDDING_SIZE, output_dim = 1)"
      ],
      "metadata": {
        "id": "bMn-pDRZ4p4C"
      },
      "execution_count": 6,
      "outputs": []
    },
    {
      "cell_type": "code",
      "source": [
        "device = torch.device(\"cuda:0\" if torch.cuda.is_available() else \"cpu\")\n",
        "model = model.to(device)\n",
        "\n",
        "NUM_EPOCHS = 50\n",
        "\n",
        "loss_function = L1Loss()\n",
        "\n",
        "optimizer = Adam(params = model.parameters(), lr = 0.01)\n",
        "\n",
        "scheduler = ReduceLROnPlateau(optimizer, mode='min', factor=0.5, patience=10, min_lr=0.00001)"
      ],
      "metadata": {
        "id": "fC1fVp_s5Vfw"
      },
      "execution_count": 7,
      "outputs": []
    },
    {
      "cell_type": "code",
      "source": [
        "NB_GRAPHS_PER_BATCH = 64\n",
        "\n",
        "train = ZINC('/content/Graph-Neural-Networks/data', split = 'train')\n",
        "train = train[train.y > -10] # Drop Outliers\n",
        "\n",
        "val = ZINC('/content/Graph-Neural-Networks/data', split = 'val')\n",
        "\n",
        "test = ZINC('/content/Graph-Neural-Networks/data', split = 'test')\n",
        "\n",
        "train_loader = DataLoader(train,\n",
        "                          batch_size = NB_GRAPHS_PER_BATCH,\n",
        "                          shuffle = True)\n",
        "\n",
        "val_loader = DataLoader(val,\n",
        "                        batch_size = NB_GRAPHS_PER_BATCH,\n",
        "                        shuffle = False)\n",
        "\n",
        "test_loader = DataLoader(test,\n",
        "                         batch_size = NB_GRAPHS_PER_BATCH,\n",
        "                         shuffle = False)\n",
        "\n",
        "print(\"Number of Batches in Train Loader :\", len(train_loader))\n",
        "print(\"Number of Batches in Val Loader :\", len(val_loader))\n",
        "print(\"Number of Batches in Test Loader :\", len(test_loader))"
      ],
      "metadata": {
        "colab": {
          "base_uri": "https://localhost:8080/"
        },
        "id": "3aKrSvqZ3_LU",
        "outputId": "0f5e0f7a-f3fe-4c9b-83a4-b1bd3d8ea4d9"
      },
      "execution_count": 8,
      "outputs": [
        {
          "output_type": "stream",
          "name": "stderr",
          "text": [
            "Downloading https://www.dropbox.com/s/feo9qle74kg48gy/molecules.zip?dl=1\n",
            "Extracting /content/Graph-Neural-Networks/data/molecules.zip\n",
            "Downloading https://raw.githubusercontent.com/graphdeeplearning/benchmarking-gnns/master/data/molecules/train.index\n",
            "Downloading https://raw.githubusercontent.com/graphdeeplearning/benchmarking-gnns/master/data/molecules/val.index\n",
            "Downloading https://raw.githubusercontent.com/graphdeeplearning/benchmarking-gnns/master/data/molecules/test.index\n",
            "Processing...\n",
            "Processing train dataset: 100%|██████████| 220011/220011 [00:21<00:00, 10177.09it/s]\n",
            "Processing val dataset: 100%|██████████| 24445/24445 [00:03<00:00, 7218.62it/s] \n",
            "Processing test dataset: 100%|██████████| 5000/5000 [00:00<00:00, 10444.06it/s]\n",
            "Done!\n"
          ]
        },
        {
          "output_type": "stream",
          "name": "stdout",
          "text": [
            "Number of Batches in Train Loader : 3433\n",
            "Number of Batches in Val Loader : 382\n",
            "Number of Batches in Test Loader : 79\n"
          ]
        }
      ]
    },
    {
      "cell_type": "code",
      "source": [
        "def train():\n",
        "  for epoch in range(NUM_EPOCHS):\n",
        "      model.train()\n",
        "      total_loss = 0.0\n",
        "\n",
        "      for batch_data in train_loader:\n",
        "\n",
        "          # Use GPU\n",
        "          batch_data.to(device)\n",
        "\n",
        "          optimizer.zero_grad()\n",
        "          predictions = model(batch_data, batch_data.batch)\n",
        "\n",
        "          loss = loss_function(predictions, batch_data.y.float().view(-1, 1))\n",
        "          loss.backward()\n",
        "          optimizer.step()\n",
        "\n",
        "          total_loss += loss.item()\n",
        "\n",
        "      average_train_loss = total_loss / len(train_loader)\n",
        "\n",
        "      model.eval()\n",
        "      val_total_loss = 0.0\n",
        "      with torch.no_grad():\n",
        "          for val_batch_data in val_loader:\n",
        "              val_batch_data.to(device)\n",
        "              val_predictions = model(val_batch_data, val_batch_data.batch)\n",
        "              val_loss = loss_function(val_predictions, val_batch_data.y.float().view(-1, 1))\n",
        "              val_total_loss += val_loss.item()\n",
        "\n",
        "          average_val_loss = val_total_loss / len(val_loader)\n",
        "          scheduler.step(average_val_loss)\n",
        "\n",
        "      print(f\"Epoch {epoch + 1} -> Train Loss: {average_train_loss:.4f} - Val Loss: {average_val_loss:.4f}\")\n",
        "\n",
        "def test():\n",
        "  model.eval()\n",
        "  tot_test_loss = 0.0\n",
        "  with torch.no_grad():\n",
        "\n",
        "      for test_batch in test_loader:\n",
        "          test_batch.to(device)\n",
        "\n",
        "          test_pred, test_y = model(test_batch, test_batch.batch)\n",
        "          test_loss = loss_function(test_pred, test_batch.y.view(-1, 1).float().view(-1, 1))\n",
        "\n",
        "          tot_test_loss += test_loss.item()\n",
        "\n",
        "      average_test_loss = tot_test_loss / len(test_loader)\n",
        "\n",
        "  print(f\"Test Loss: {average_test_loss:.4f}\")"
      ],
      "metadata": {
        "id": "e4C5Zo1g39OQ"
      },
      "execution_count": 19,
      "outputs": []
    },
    {
      "cell_type": "code",
      "source": [
        "train()"
      ],
      "metadata": {
        "colab": {
          "base_uri": "https://localhost:8080/"
        },
        "id": "kYVPNiS0dm6O",
        "outputId": "2ca2a204-be5e-4407-beb1-1ad22d1e98f0"
      },
      "execution_count": 16,
      "outputs": [
        {
          "output_type": "stream",
          "name": "stdout",
          "text": [
            "Epoch 1 -> Train Loss: 1.0323 - Val Loss: 1.0126\n",
            "Epoch 2 -> Train Loss: 0.8836 - Val Loss: 0.9970\n",
            "Epoch 3 -> Train Loss: 0.8421 - Val Loss: 0.8141\n",
            "Epoch 4 -> Train Loss: 0.8307 - Val Loss: 0.9838\n",
            "Epoch 5 -> Train Loss: 0.8354 - Val Loss: 0.8344\n",
            "Epoch 6 -> Train Loss: 0.8190 - Val Loss: 0.8515\n",
            "Epoch 7 -> Train Loss: 0.8204 - Val Loss: 0.8369\n",
            "Epoch 8 -> Train Loss: 0.8127 - Val Loss: 0.8284\n",
            "Epoch 9 -> Train Loss: 0.8145 - Val Loss: 0.9082\n",
            "Epoch 10 -> Train Loss: 0.8129 - Val Loss: 0.8553\n",
            "Epoch 11 -> Train Loss: 0.8391 - Val Loss: 0.8276\n",
            "Epoch 12 -> Train Loss: 0.8343 - Val Loss: 0.8346\n",
            "Epoch 13 -> Train Loss: 0.8343 - Val Loss: 0.8377\n",
            "Epoch 14 -> Train Loss: 0.8339 - Val Loss: 0.8302\n",
            "Epoch 15 -> Train Loss: 0.8160 - Val Loss: 0.8278\n",
            "Epoch 16 -> Train Loss: 0.8114 - Val Loss: 0.8124\n",
            "Epoch 17 -> Train Loss: 0.7995 - Val Loss: 0.8030\n",
            "Epoch 18 -> Train Loss: 0.7922 - Val Loss: 0.7959\n",
            "Epoch 19 -> Train Loss: 0.7884 - Val Loss: 0.7908\n",
            "Epoch 20 -> Train Loss: 0.7853 - Val Loss: 0.8232\n",
            "Epoch 21 -> Train Loss: 0.7840 - Val Loss: 0.7955\n",
            "Epoch 22 -> Train Loss: 0.7832 - Val Loss: 0.7895\n",
            "Epoch 23 -> Train Loss: 0.7798 - Val Loss: 0.7829\n",
            "Epoch 24 -> Train Loss: 0.7785 - Val Loss: 0.8248\n",
            "Epoch 25 -> Train Loss: 0.7799 - Val Loss: 0.7904\n",
            "Epoch 26 -> Train Loss: 0.7807 - Val Loss: 0.7901\n",
            "Epoch 27 -> Train Loss: 0.7766 - Val Loss: 0.7974\n",
            "Epoch 28 -> Train Loss: 0.7749 - Val Loss: 0.8071\n",
            "Epoch 29 -> Train Loss: 0.7790 - Val Loss: 0.7847\n",
            "Epoch 30 -> Train Loss: 0.7775 - Val Loss: 0.7799\n",
            "Epoch 31 -> Train Loss: 0.7766 - Val Loss: 0.7851\n",
            "Epoch 32 -> Train Loss: 0.7739 - Val Loss: 0.7823\n",
            "Epoch 33 -> Train Loss: 0.7770 - Val Loss: 0.7834\n",
            "Epoch 34 -> Train Loss: 0.7770 - Val Loss: 0.7868\n",
            "Epoch 35 -> Train Loss: 0.7744 - Val Loss: 0.7824\n",
            "Epoch 36 -> Train Loss: 0.7724 - Val Loss: 0.8066\n",
            "Epoch 37 -> Train Loss: 0.7724 - Val Loss: 0.7815\n",
            "Epoch 38 -> Train Loss: 0.7713 - Val Loss: 0.7788\n",
            "Epoch 39 -> Train Loss: 0.7718 - Val Loss: 0.7965\n",
            "Epoch 40 -> Train Loss: 0.7705 - Val Loss: 0.7844\n",
            "Epoch 41 -> Train Loss: 0.7703 - Val Loss: 0.8225\n",
            "Epoch 42 -> Train Loss: 0.7741 - Val Loss: 0.8271\n",
            "Epoch 43 -> Train Loss: 0.7740 - Val Loss: 0.7775\n",
            "Epoch 44 -> Train Loss: 0.7711 - Val Loss: 0.8029\n",
            "Epoch 45 -> Train Loss: 0.7679 - Val Loss: 0.7778\n",
            "Epoch 46 -> Train Loss: 0.7699 - Val Loss: 0.8036\n",
            "Epoch 47 -> Train Loss: 0.7747 - Val Loss: 0.7776\n",
            "Epoch 48 -> Train Loss: 0.7713 - Val Loss: 0.7806\n",
            "Epoch 49 -> Train Loss: 0.7695 - Val Loss: 0.7723\n",
            "Epoch 50 -> Train Loss: 0.7706 - Val Loss: 0.7918\n"
          ]
        }
      ]
    }
  ]
}